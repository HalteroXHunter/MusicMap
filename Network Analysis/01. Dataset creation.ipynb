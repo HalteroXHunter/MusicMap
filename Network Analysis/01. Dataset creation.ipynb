{
 "cells": [
  {
   "cell_type": "markdown",
   "id": "d25a2631",
   "metadata": {},
   "source": [
    "## Notebook where we create the Dataset with the API and Spotipy"
   ]
  },
  {
   "cell_type": "code",
   "execution_count": 8,
   "id": "595e9fb6",
   "metadata": {},
   "outputs": [],
   "source": [
    "import pandas as pd\n",
    "import spotipy\n",
    "from spotipy.oauth2 import SpotifyOAuth\n",
    "from spotipy.oauth2 import SpotifyClientCredentials\n",
    "from client import * #client credentials here\n",
    "import os\n",
    "import sys\n",
    "import time\n",
    "%matplotlib inline\n",
    "import numpy as np\n",
    "import networkx as nx\n",
    "import matplotlib.pyplot as plt\n",
    "from random import randint\n"
   ]
  },
  {
   "cell_type": "markdown",
   "id": "61fde0dd",
   "metadata": {},
   "source": [
    "SPOTIPY DOC: https://spotipy.readthedocs.io/en/2.19.0/#module-spotipy.client"
   ]
  },
  {
   "cell_type": "code",
   "execution_count": 9,
   "id": "619191c4",
   "metadata": {},
   "outputs": [],
   "source": [
    "# We create the client object to interact with the API using Spotipy\n",
    "\n",
    "sp = spotipy.Spotify(auth_manager=SpotifyOAuth(client_id =Client_id,client_secret=Client_secret ,redirect_uri=Redirect_uri ))"
   ]
  },
  {
   "cell_type": "markdown",
   "id": "c6a7b805",
   "metadata": {},
   "source": [
    "In order to create the first set of artists, we grab a representation of artists by choice from the community we want to analize\n",
    "\n",
    "In this case we have chosen artists from the rap/urban music spanish community. From this selection we use the API to search the collaborations which appear in their top tracks.\n",
    "\n",
    "with the initial set and the name of the collaborators we grow again the initial list of artists as many times as we feel fit, until we have a community of which we consider representative for our analysis.\n",
    "\n",
    "It is recommended to go back and touch upon this data in order to refine everytime a little bit more the chosen artists"
   ]
  },
  {
   "cell_type": "code",
   "execution_count": 12,
   "id": "7376593f",
   "metadata": {},
   "outputs": [],
   "source": [
    "# FIRST ARTIST SELECTION\n",
    "\n",
    "# IMPORTANT!!!: the way the name is written in this list has to be exactly the way that is written in the Spotify platform\n",
    "\n",
    "artist_list_sp = ['SFDK','Cecilio G.','Ayax y Prok','Sharif','Rels B','Bejo',\n",
    "                    'Haze','Lagrimas De Sangre','Pepe : Vizio','Santa Salut',\n",
    "                    'Mala Rodriguez','Luenco','Delaossa','Bizarrap','Residente','Recycled J','Natos y Waor',\n",
    "                    'Hard GZ','Nikone','El Jincho','Foyone','Kase.o','Dellafuente','Morad','Cráneo',\n",
    "                    'Saske','Juancho Marques','Zetazen','C. Tangana','Cruz Cafuné','Matasvandals','Toteking',\n",
    "                    'Don Patricio','Ivancano','ROSALÍA','Los Chikos del Maiz','Nach','Shotta','Rapsusklei',\n",
    "                    'Ptazeta','Bad Gyal','FERNANDOCOSTA','Yung Beef','Israel B','Kidd Keo']"
   ]
  },
  {
   "cell_type": "code",
   "execution_count": 13,
   "id": "4d5b68e5",
   "metadata": {},
   "outputs": [
    {
     "data": {
      "text/plain": [
       "45"
      ]
     },
     "execution_count": 13,
     "metadata": {},
     "output_type": "execute_result"
    }
   ],
   "source": [
    "len(artist_list_sp)"
   ]
  },
  {
   "cell_type": "code",
   "execution_count": 10,
   "id": "d7d6da27",
   "metadata": {},
   "outputs": [],
   "source": [
    "# Function that tracks the top tracks of our artists and returns the colaborators in those songs\n",
    "\n",
    "def colab_top_tracks (artist):\n",
    "\n",
    "\n",
    "  time.sleep(1)\n",
    "  #     te dice el URI del artista\n",
    "  busqueda_id = sp.search(q=f'artist: {artist}',limit = 1, type='artist')\n",
    "  try:\n",
    "      ID = busqueda_id['artists']['items'][0]['uri']\n",
    "  except IndexError:\n",
    "      fake_artists.append(artist)\n",
    "\n",
    "  # Top track URIs\n",
    "\n",
    "  results = sp.artist_top_tracks(ID) #Possibility of defining the country in order to increase the chance of finding the correct artist\n",
    "  top_tracks_uris = list()\n",
    "\n",
    "  for track in results['tracks']:\n",
    "      top_tracks_uris.append(track['uri'])\n",
    "\n",
    "  # Colabs with Top track URIs\n",
    "\n",
    "  colabos_top_tracks = set()\n",
    "\n",
    "  for i in top_tracks_uris:\n",
    "      try:\n",
    "          colabs_track =sp.track(i)\n",
    "          for j in colabs_track['artists']:\n",
    "              if j['name'] != artist:\n",
    "                  colabos_top_tracks.add(j['name'])\n",
    "              else:\n",
    "                  continue\n",
    "      except Indexerror:\n",
    "          artists_with_no_artists.append(i)\n",
    "\n",
    "\n",
    "  lk = list()\n",
    "\n",
    "  lk.append(artist)\n",
    "  lk.append(colabos_top_tracks)\n",
    "\n",
    "  return tuple(lk)"
   ]
  },
  {
   "cell_type": "code",
   "execution_count": 11,
   "id": "b78ec3e1",
   "metadata": {},
   "outputs": [
    {
     "data": {
      "text/plain": [
       "('DELLAFUENTE', {'C. Tangana', 'Maka', 'Maka, Nano Cortés', 'Pepe : Vizio'})"
      ]
     },
     "execution_count": 11,
     "metadata": {},
     "output_type": "execute_result"
    }
   ],
   "source": [
    "colab_top_tracks('DELLAFUENTE')"
   ]
  },
  {
   "cell_type": "code",
   "execution_count": 5,
   "id": "9b3b68b5",
   "metadata": {},
   "outputs": [],
   "source": [
    "# These lists will pick up the issues that the spotify API has on some artists, we might use it further on for our analysis\n",
    "# or data clean up.\n",
    "\n",
    "albums_with_no_songs = list()\n",
    "artists_with_no_artists = list()\n",
    "fake_artists = list()\n",
    "artist_with_no_albums = list()"
   ]
  },
  {
   "cell_type": "code",
   "execution_count": null,
   "id": "39ac358f",
   "metadata": {
    "scrolled": true
   },
   "outputs": [
    {
     "name": "stdout",
     "output_type": "stream",
     "text": [
      "0\n"
     ]
    }
   ],
   "source": [
    "# This for loop applies the given function for the colaborators. Due to the API limits, we also included a While loop\n",
    "# to keep trying as for random moments the API doesn't let us extract the desired information\n",
    "\n",
    "\n",
    "list_colabs_rap = list()\n",
    "\n",
    "for i,name in enumerate(artist_list_sp):\n",
    "    print(i)\n",
    "    result = None\n",
    "    while result is None:\n",
    "        try:\n",
    "            result = colab_top_tracks(name)\n",
    "        except:\n",
    "            time.sleep(3)\n",
    "    list_colabs_rap.append(result)"
   ]
  },
  {
   "cell_type": "code",
   "execution_count": 8,
   "id": "236991db",
   "metadata": {},
   "outputs": [],
   "source": [
    "# This function collects all the colaborators and fixes them into a list\n",
    "\n",
    "colaboraciones_ronda_1 = list()\n",
    "\n",
    "for i in list_colabs_rap:\n",
    "    for j in i:\n",
    "        for x in j:\n",
    "            if len(x)>1:\n",
    "                colaboraciones_ronda_1.append(x)"
   ]
  },
  {
   "cell_type": "code",
   "execution_count": 9,
   "id": "2a63a81d",
   "metadata": {},
   "outputs": [],
   "source": [
    "# We eliminate duplicates from colaborators\n",
    "\n",
    "first_round_rapers = set()\n",
    "\n",
    "for i in colaboraciones_ronda_1:\n",
    "    first_round_rapers.add(i)"
   ]
  },
  {
   "cell_type": "code",
   "execution_count": 10,
   "id": "7e2a4cdb",
   "metadata": {},
   "outputs": [
    {
     "data": {
      "text/plain": [
       "320"
      ]
     },
     "execution_count": 10,
     "metadata": {},
     "output_type": "execute_result"
    }
   ],
   "source": [
    "len(first_round_rapers)"
   ]
  },
  {
   "cell_type": "code",
   "execution_count": 11,
   "id": "ad11880d",
   "metadata": {},
   "outputs": [],
   "source": [
    "# We join the initial list with the colaborators\n",
    "\n",
    "for i in artist_list_sp:\n",
    "    first_round_rapers.add(i)"
   ]
  },
  {
   "cell_type": "code",
   "execution_count": 12,
   "id": "72591542",
   "metadata": {},
   "outputs": [
    {
     "data": {
      "text/plain": [
       "339"
      ]
     },
     "execution_count": 12,
     "metadata": {},
     "output_type": "execute_result"
    }
   ],
   "source": [
    "len(first_round_rapers)"
   ]
  },
  {
   "cell_type": "code",
   "execution_count": 13,
   "id": "2184c981",
   "metadata": {
    "scrolled": true
   },
   "outputs": [
    {
     "name": "stdout",
     "output_type": "stream",
     "text": [
      "0\n"
     ]
    },
    {
     "name": "stderr",
     "output_type": "stream",
     "text": [
      "HTTP Error for GET to https://api.spotify.com/v1/tracks/4qSqnCaVelsI9bvwrxJjty with Params: {'market': None} returned 404 due to None\n",
      "HTTP Error for GET to https://api.spotify.com/v1/tracks/5vS3tfCF9cEnK32q7YrVNs with Params: {'market': None} returned 404 due to None\n"
     ]
    },
    {
     "name": "stdout",
     "output_type": "stream",
     "text": [
      "1\n",
      "2\n",
      "3\n",
      "4\n",
      "5\n",
      "6\n",
      "7\n",
      "8\n",
      "9\n",
      "10\n",
      "11\n",
      "12\n",
      "13\n",
      "14\n"
     ]
    },
    {
     "name": "stderr",
     "output_type": "stream",
     "text": [
      "HTTP Error for GET to https://api.spotify.com/v1/tracks/7GgYPyRs1d873sGK7y9ZqR with Params: {'market': None} returned 404 due to None\n"
     ]
    },
    {
     "name": "stdout",
     "output_type": "stream",
     "text": [
      "15\n",
      "16\n",
      "17\n",
      "18\n",
      "19\n",
      "20\n"
     ]
    },
    {
     "name": "stderr",
     "output_type": "stream",
     "text": [
      "HTTP Error for GET to https://api.spotify.com/v1/tracks/0OP1RzrglC008kj79Httv3 with Params: {'market': None} returned 404 due to None\n"
     ]
    },
    {
     "name": "stdout",
     "output_type": "stream",
     "text": [
      "21\n"
     ]
    },
    {
     "name": "stderr",
     "output_type": "stream",
     "text": [
      "HTTP Error for GET to https://api.spotify.com/v1/tracks/2bf1951cBYpJfYBHYjh0dg with Params: {'market': None} returned 404 due to None\n"
     ]
    },
    {
     "name": "stdout",
     "output_type": "stream",
     "text": [
      "22\n"
     ]
    },
    {
     "name": "stderr",
     "output_type": "stream",
     "text": [
      "HTTP Error for GET to https://api.spotify.com/v1/tracks/0FPdWuMb3smyWDUdtqcXQJ with Params: {'market': None} returned 404 due to None\n",
      "HTTP Error for GET to https://api.spotify.com/v1/artists/0LhotT6TyZgkzuLSd6pspG/top-tracks with Params: {'country': 'US'} returned 404 due to None\n"
     ]
    },
    {
     "name": "stdout",
     "output_type": "stream",
     "text": [
      "23\n",
      "24\n"
     ]
    },
    {
     "name": "stderr",
     "output_type": "stream",
     "text": [
      "HTTP Error for GET to https://api.spotify.com/v1/tracks/3ke6it1vTmHtz2ApcIVUz5 with Params: {'market': None} returned 404 due to None\n",
      "HTTP Error for GET to https://api.spotify.com/v1/tracks/0HMmzc6sW3DRrxlt5e4EmE with Params: {'market': None} returned 404 due to None\n"
     ]
    },
    {
     "name": "stdout",
     "output_type": "stream",
     "text": [
      "25\n",
      "26\n"
     ]
    },
    {
     "name": "stderr",
     "output_type": "stream",
     "text": [
      "HTTP Error for GET to https://api.spotify.com/v1/tracks/6VH9vAqhTig0SaS5mI5yw8 with Params: {'market': None} returned 404 due to None\n",
      "HTTP Error for GET to https://api.spotify.com/v1/tracks/4hklliK34BQpPNsoag1JmL with Params: {'market': None} returned 404 due to None\n",
      "HTTP Error for GET to https://api.spotify.com/v1/tracks/6dQ4XjdfaEodjTlvyn6g6A with Params: {'market': None} returned 404 due to None\n"
     ]
    },
    {
     "name": "stdout",
     "output_type": "stream",
     "text": [
      "27\n",
      "28\n",
      "29\n"
     ]
    },
    {
     "name": "stderr",
     "output_type": "stream",
     "text": [
      "HTTP Error for GET to https://api.spotify.com/v1/tracks/4yIsxEXBY0FA1WlVDiKcpf with Params: {'market': None} returned 404 due to None\n"
     ]
    },
    {
     "name": "stdout",
     "output_type": "stream",
     "text": [
      "30\n",
      "31\n",
      "32\n",
      "33\n",
      "34\n",
      "35\n",
      "36\n",
      "37\n",
      "38\n",
      "39\n",
      "40\n",
      "41\n",
      "42\n",
      "43\n",
      "44\n"
     ]
    },
    {
     "name": "stderr",
     "output_type": "stream",
     "text": [
      "HTTP Error for GET to https://api.spotify.com/v1/tracks/1ln63maVJ4cY7FPZogiRvA with Params: {'market': None} returned 404 due to None\n"
     ]
    },
    {
     "name": "stdout",
     "output_type": "stream",
     "text": [
      "45\n",
      "46\n",
      "47\n",
      "48\n",
      "49\n"
     ]
    },
    {
     "name": "stderr",
     "output_type": "stream",
     "text": [
      "HTTP Error for GET to https://api.spotify.com/v1/tracks/6SPwsGI1IMrflIj83XglJX with Params: {'market': None} returned 404 due to None\n"
     ]
    },
    {
     "name": "stdout",
     "output_type": "stream",
     "text": [
      "50\n",
      "51\n",
      "52\n",
      "53\n",
      "54\n",
      "55\n",
      "56\n",
      "57\n",
      "58\n",
      "59\n",
      "60\n",
      "61\n"
     ]
    },
    {
     "name": "stderr",
     "output_type": "stream",
     "text": [
      "HTTP Error for GET to https://api.spotify.com/v1/tracks/5PkPAdBoVPqhQzDvuoVXFl with Params: {'market': None} returned 404 due to None\n",
      "HTTP Error for GET to https://api.spotify.com/v1/tracks/4BIKCqX1P2aMNKYem3ccTy with Params: {'market': None} returned 404 due to None\n"
     ]
    },
    {
     "name": "stdout",
     "output_type": "stream",
     "text": [
      "62\n"
     ]
    },
    {
     "name": "stderr",
     "output_type": "stream",
     "text": [
      "HTTP Error for GET to https://api.spotify.com/v1/tracks/33WgvbUpC6dj80O79YX52R with Params: {'market': None} returned 404 due to None\n"
     ]
    },
    {
     "name": "stdout",
     "output_type": "stream",
     "text": [
      "63\n",
      "64\n",
      "65\n",
      "66\n",
      "67\n",
      "68\n"
     ]
    },
    {
     "name": "stderr",
     "output_type": "stream",
     "text": [
      "HTTP Error for GET to https://api.spotify.com/v1/tracks/1HyGIcX02aKLR2SdYYB6mo with Params: {'market': None} returned 404 due to None\n",
      "HTTP Error for GET to https://api.spotify.com/v1/tracks/6atF8XlOdn5wASXacGQkzv with Params: {'market': None} returned 404 due to None\n",
      "HTTP Error for GET to https://api.spotify.com/v1/tracks/3xz6lBuA1AzTTF6QdhP85h with Params: {'market': None} returned 404 due to None\n"
     ]
    },
    {
     "name": "stdout",
     "output_type": "stream",
     "text": [
      "69\n",
      "70\n",
      "71\n"
     ]
    },
    {
     "name": "stderr",
     "output_type": "stream",
     "text": [
      "HTTP Error for GET to https://api.spotify.com/v1/tracks/6YnkINOGXQUXaRM58kQI1N with Params: {'market': None} returned 404 due to None\n"
     ]
    },
    {
     "name": "stdout",
     "output_type": "stream",
     "text": [
      "72\n",
      "73\n",
      "74\n"
     ]
    },
    {
     "name": "stderr",
     "output_type": "stream",
     "text": [
      "HTTP Error for GET to https://api.spotify.com/v1/artists/4XV4e5IqR6DKCJMJWuG7Vi/top-tracks with Params: {'country': 'US'} returned 404 due to None\n",
      "HTTP Error for GET to https://api.spotify.com/v1/tracks/4Hh3l6VVEcY5PORQe9srni with Params: {'market': None} returned 404 due to None\n"
     ]
    },
    {
     "name": "stdout",
     "output_type": "stream",
     "text": [
      "75\n",
      "76\n",
      "77\n"
     ]
    },
    {
     "name": "stderr",
     "output_type": "stream",
     "text": [
      "HTTP Error for GET to https://api.spotify.com/v1/tracks/4q62IzqQKbdHlLrA8BEuom with Params: {'market': None} returned 404 due to None\n"
     ]
    },
    {
     "name": "stdout",
     "output_type": "stream",
     "text": [
      "78\n",
      "79\n"
     ]
    },
    {
     "name": "stderr",
     "output_type": "stream",
     "text": [
      "HTTP Error for GET to https://api.spotify.com/v1/tracks/4wEvmN93BDeNKanv9EQxrQ with Params: {'market': None} returned 404 due to None\n"
     ]
    },
    {
     "name": "stdout",
     "output_type": "stream",
     "text": [
      "80\n",
      "81\n",
      "82\n"
     ]
    },
    {
     "name": "stderr",
     "output_type": "stream",
     "text": [
      "HTTP Error for GET to https://api.spotify.com/v1/tracks/0fExY60Du7TqtLDF0YLcTp with Params: {'market': None} returned 404 due to None\n"
     ]
    },
    {
     "name": "stdout",
     "output_type": "stream",
     "text": [
      "83\n",
      "84\n",
      "85\n"
     ]
    },
    {
     "name": "stderr",
     "output_type": "stream",
     "text": [
      "HTTP Error for GET to https://api.spotify.com/v1/artists/26ggle1808llWoAdfbKHoi/top-tracks with Params: {'country': 'US'} returned 404 due to None\n"
     ]
    },
    {
     "name": "stdout",
     "output_type": "stream",
     "text": [
      "86\n",
      "87\n"
     ]
    },
    {
     "name": "stderr",
     "output_type": "stream",
     "text": [
      "HTTP Error for GET to https://api.spotify.com/v1/tracks/64toSnvjyXFlrUWygc6Ofs with Params: {'market': None} returned 404 due to None\n",
      "HTTP Error for GET to https://api.spotify.com/v1/tracks/1r4D7JxriktBGXdC8o27db with Params: {'market': None} returned 404 due to None\n",
      "HTTP Error for GET to https://api.spotify.com/v1/tracks/0DPKzksU9qfgExbtCoJhKZ with Params: {'market': None} returned 404 due to None\n"
     ]
    },
    {
     "name": "stdout",
     "output_type": "stream",
     "text": [
      "88\n",
      "89\n"
     ]
    },
    {
     "name": "stderr",
     "output_type": "stream",
     "text": [
      "HTTP Error for GET to https://api.spotify.com/v1/tracks/1cbSMm6YY0PYeruM6jBTY8 with Params: {'market': None} returned 404 due to None\n"
     ]
    },
    {
     "name": "stdout",
     "output_type": "stream",
     "text": [
      "90\n"
     ]
    },
    {
     "name": "stderr",
     "output_type": "stream",
     "text": [
      "HTTP Error for GET to https://api.spotify.com/v1/tracks/2Up8QSKRV7WnZxZAQasEUq with Params: {'market': None} returned 404 due to None\n"
     ]
    },
    {
     "name": "stdout",
     "output_type": "stream",
     "text": [
      "91\n",
      "92\n",
      "93\n",
      "94\n",
      "95\n",
      "96\n",
      "97\n",
      "98\n",
      "99\n",
      "100\n"
     ]
    },
    {
     "name": "stderr",
     "output_type": "stream",
     "text": [
      "HTTP Error for GET to https://api.spotify.com/v1/tracks/7AK2UgOQLWpfHZiUlS3u2y with Params: {'market': None} returned 404 due to None\n"
     ]
    },
    {
     "name": "stdout",
     "output_type": "stream",
     "text": [
      "101\n",
      "102\n",
      "103\n"
     ]
    },
    {
     "name": "stderr",
     "output_type": "stream",
     "text": [
      "HTTP Error for GET to https://api.spotify.com/v1/tracks/764Xrh7EGdXUPzKaA2nHLV with Params: {'market': None} returned 404 due to None\n",
      "HTTP Error for GET to https://api.spotify.com/v1/tracks/5zaur8FlCQ5GGMtSJptmDr with Params: {'market': None} returned 404 due to None\n",
      "HTTP Error for GET to https://api.spotify.com/v1/tracks/5nw6Uk1a2NkmTqfalBvMia with Params: {'market': None} returned 404 due to None\n"
     ]
    },
    {
     "name": "stdout",
     "output_type": "stream",
     "text": [
      "104\n"
     ]
    },
    {
     "name": "stderr",
     "output_type": "stream",
     "text": [
      "HTTP Error for GET to https://api.spotify.com/v1/tracks/0kKlsA6Lsqb46neLyF81ms with Params: {'market': None} returned 404 due to None\n"
     ]
    },
    {
     "name": "stdout",
     "output_type": "stream",
     "text": [
      "105\n",
      "106\n"
     ]
    },
    {
     "name": "stderr",
     "output_type": "stream",
     "text": [
      "HTTP Error for GET to https://api.spotify.com/v1/tracks/4BrpZHknbJCv5S0OSbjn4E with Params: {'market': None} returned 404 due to None\n"
     ]
    },
    {
     "name": "stdout",
     "output_type": "stream",
     "text": [
      "107\n",
      "108\n",
      "109\n"
     ]
    },
    {
     "name": "stderr",
     "output_type": "stream",
     "text": [
      "HTTP Error for GET to https://api.spotify.com/v1/tracks/6uurFaRfaqGKOOsECOSuMw with Params: {'market': None} returned 404 due to None\n"
     ]
    },
    {
     "name": "stdout",
     "output_type": "stream",
     "text": [
      "110\n",
      "111\n",
      "112\n",
      "113\n",
      "114\n",
      "115\n",
      "116\n"
     ]
    },
    {
     "name": "stderr",
     "output_type": "stream",
     "text": [
      "HTTP Error for GET to https://api.spotify.com/v1/tracks/5q1wShNQKfniCCv097p00x with Params: {'market': None} returned 404 due to None\n",
      "HTTP Error for GET to https://api.spotify.com/v1/tracks/46aQFOzgE6Q3p3w8Fapl7j with Params: {'market': None} returned 404 due to None\n",
      "HTTP Error for GET to https://api.spotify.com/v1/tracks/7bAXhOVSGEcUtpg8zza9Kw with Params: {'market': None} returned 404 due to None\n",
      "HTTP Error for GET to https://api.spotify.com/v1/tracks/7bAXhOVSGEcUtpg8zza9Kw with Params: {'market': None} returned 404 due to None\n"
     ]
    },
    {
     "name": "stdout",
     "output_type": "stream",
     "text": [
      "117\n"
     ]
    },
    {
     "name": "stderr",
     "output_type": "stream",
     "text": [
      "HTTP Error for GET to https://api.spotify.com/v1/tracks/479TjlDwB0JAyPjZjxFah8 with Params: {'market': None} returned 404 due to None\n"
     ]
    },
    {
     "name": "stdout",
     "output_type": "stream",
     "text": [
      "118\n",
      "119\n",
      "120\n",
      "121\n"
     ]
    },
    {
     "name": "stderr",
     "output_type": "stream",
     "text": [
      "HTTP Error for GET to https://api.spotify.com/v1/tracks/4RB9V1owWyiGDawTj7Irty with Params: {'market': None} returned 404 due to None\n"
     ]
    },
    {
     "name": "stdout",
     "output_type": "stream",
     "text": [
      "122\n",
      "123\n",
      "124\n",
      "125\n"
     ]
    },
    {
     "name": "stderr",
     "output_type": "stream",
     "text": [
      "HTTP Error for GET to https://api.spotify.com/v1/tracks/7IdfMBufDn3yf2JhS3a5w0 with Params: {'market': None} returned 404 due to None\n"
     ]
    },
    {
     "name": "stdout",
     "output_type": "stream",
     "text": [
      "126\n",
      "127\n"
     ]
    },
    {
     "name": "stderr",
     "output_type": "stream",
     "text": [
      "HTTP Error for GET to https://api.spotify.com/v1/tracks/6rK2EpBxwUD9h9jaFTKOKE with Params: {'market': None} returned 404 due to None\n"
     ]
    },
    {
     "name": "stdout",
     "output_type": "stream",
     "text": [
      "128\n",
      "129\n",
      "130\n",
      "131\n",
      "132\n",
      "133\n",
      "134\n",
      "135\n",
      "136\n",
      "137\n",
      "138\n",
      "139\n",
      "140\n",
      "141\n",
      "142\n"
     ]
    },
    {
     "name": "stderr",
     "output_type": "stream",
     "text": [
      "HTTP Error for GET to https://api.spotify.com/v1/artists/2e4nwiX8ZCU09LGLOpeqTH/top-tracks with Params: {'country': 'US'} returned 404 due to None\n"
     ]
    },
    {
     "name": "stdout",
     "output_type": "stream",
     "text": [
      "143\n",
      "144\n",
      "145\n",
      "146\n",
      "147\n",
      "148\n"
     ]
    },
    {
     "name": "stderr",
     "output_type": "stream",
     "text": [
      "HTTP Error for GET to https://api.spotify.com/v1/tracks/3DezebHYHERgLxY3bU4y96 with Params: {'market': None} returned 404 due to None\n"
     ]
    },
    {
     "name": "stdout",
     "output_type": "stream",
     "text": [
      "149\n",
      "150\n",
      "151\n",
      "152\n",
      "153\n",
      "154\n"
     ]
    },
    {
     "name": "stderr",
     "output_type": "stream",
     "text": [
      "HTTP Error for GET to https://api.spotify.com/v1/tracks/35J58onTyNQh4jdGufz5Ou with Params: {'market': None} returned 404 due to None\n",
      "HTTP Error for GET to https://api.spotify.com/v1/tracks/75bUn0DwZQo7vIYLrGARFo with Params: {'market': None} returned 404 due to None\n"
     ]
    },
    {
     "name": "stdout",
     "output_type": "stream",
     "text": [
      "155\n",
      "156\n",
      "157\n",
      "158\n",
      "159\n",
      "160\n",
      "161\n",
      "162\n",
      "163\n"
     ]
    },
    {
     "name": "stderr",
     "output_type": "stream",
     "text": [
      "HTTP Error for GET to https://api.spotify.com/v1/tracks/4vySWreGAhDr34U0KwZdVP with Params: {'market': None} returned 404 due to None\n"
     ]
    },
    {
     "name": "stdout",
     "output_type": "stream",
     "text": [
      "164\n",
      "165\n",
      "166\n",
      "167\n",
      "168\n",
      "169\n"
     ]
    },
    {
     "name": "stderr",
     "output_type": "stream",
     "text": [
      "HTTP Error for GET to https://api.spotify.com/v1/artists/5UN0rzL594mWY2RbOtZqIN/top-tracks with Params: {'country': 'US'} returned 404 due to None\n"
     ]
    },
    {
     "name": "stdout",
     "output_type": "stream",
     "text": [
      "170\n",
      "171\n",
      "172\n",
      "173\n"
     ]
    },
    {
     "name": "stderr",
     "output_type": "stream",
     "text": [
      "HTTP Error for GET to https://api.spotify.com/v1/tracks/6iOZDVnRBkGaKynMNY9zNC with Params: {'market': None} returned 404 due to None\n"
     ]
    },
    {
     "name": "stdout",
     "output_type": "stream",
     "text": [
      "174\n",
      "175\n",
      "176\n"
     ]
    },
    {
     "name": "stderr",
     "output_type": "stream",
     "text": [
      "HTTP Error for GET to https://api.spotify.com/v1/tracks/77Yzi8F9GXL1gwfrkrNnuf with Params: {'market': None} returned 404 due to None\n"
     ]
    },
    {
     "name": "stdout",
     "output_type": "stream",
     "text": [
      "177\n",
      "178\n",
      "179\n",
      "180\n",
      "181\n"
     ]
    },
    {
     "name": "stderr",
     "output_type": "stream",
     "text": [
      "HTTP Error for GET to https://api.spotify.com/v1/tracks/0Qydhjycb5IFm02W6zJ2Tn with Params: {'market': None} returned 404 due to None\n",
      "HTTP Error for GET to https://api.spotify.com/v1/tracks/4fp5ICMxsl5kq9qWWpYBjN with Params: {'market': None} returned 404 due to None\n",
      "HTTP Error for GET to https://api.spotify.com/v1/tracks/71rHHK9L22rVdmofJTjuSd with Params: {'market': None} returned 404 due to None\n",
      "HTTP Error for GET to https://api.spotify.com/v1/tracks/4NPkQtN5w0T4ju8T6mYVsJ with Params: {'market': None} returned 404 due to None\n",
      "HTTP Error for GET to https://api.spotify.com/v1/artists/0DdDnziut7wOo6cAYWVZC5/top-tracks with Params: {'country': 'US'} returned 404 due to None\n"
     ]
    },
    {
     "name": "stdout",
     "output_type": "stream",
     "text": [
      "182\n",
      "183\n",
      "184\n"
     ]
    },
    {
     "name": "stderr",
     "output_type": "stream",
     "text": [
      "HTTP Error for GET to https://api.spotify.com/v1/artists/3MItNga2j91Iul6BYGWEoE/top-tracks with Params: {'country': 'US'} returned 404 due to None\n"
     ]
    },
    {
     "name": "stdout",
     "output_type": "stream",
     "text": [
      "185\n",
      "186\n"
     ]
    },
    {
     "name": "stderr",
     "output_type": "stream",
     "text": [
      "HTTP Error for GET to https://api.spotify.com/v1/tracks/4M3xlPyu2qW6DnTwBjVUFL with Params: {'market': None} returned 404 due to None\n"
     ]
    },
    {
     "name": "stdout",
     "output_type": "stream",
     "text": [
      "187\n",
      "188\n",
      "189\n",
      "190\n",
      "191\n",
      "192\n",
      "193\n",
      "194\n",
      "195\n"
     ]
    },
    {
     "name": "stderr",
     "output_type": "stream",
     "text": [
      "HTTP Error for GET to https://api.spotify.com/v1/tracks/0gNtmlzHodDNdhC25ia80A with Params: {'market': None} returned 404 due to None\n"
     ]
    },
    {
     "name": "stdout",
     "output_type": "stream",
     "text": [
      "196\n",
      "197\n",
      "198\n",
      "199\n",
      "200\n"
     ]
    },
    {
     "name": "stderr",
     "output_type": "stream",
     "text": [
      "HTTP Error for GET to https://api.spotify.com/v1/tracks/6XGDnUY1YOtIRegDVwKugM with Params: {'market': None} returned 404 due to None\n"
     ]
    },
    {
     "name": "stdout",
     "output_type": "stream",
     "text": [
      "201\n",
      "202\n"
     ]
    },
    {
     "name": "stderr",
     "output_type": "stream",
     "text": [
      "HTTP Error for GET to https://api.spotify.com/v1/tracks/7eiPStrJyImxzR9jumURZ3 with Params: {'market': None} returned 404 due to None\n"
     ]
    },
    {
     "name": "stdout",
     "output_type": "stream",
     "text": [
      "203\n",
      "204\n",
      "205\n",
      "206\n",
      "207\n",
      "208\n",
      "209\n"
     ]
    },
    {
     "name": "stderr",
     "output_type": "stream",
     "text": [
      "HTTP Error for GET to https://api.spotify.com/v1/tracks/4DoEHKWh8k6vYDleECQkJx with Params: {'market': None} returned 404 due to None\n"
     ]
    },
    {
     "name": "stdout",
     "output_type": "stream",
     "text": [
      "210\n",
      "211\n",
      "212\n"
     ]
    },
    {
     "name": "stderr",
     "output_type": "stream",
     "text": [
      "HTTP Error for GET to https://api.spotify.com/v1/tracks/6pRFNujKrF23Q5RqbDUACz with Params: {'market': None} returned 404 due to None\n"
     ]
    },
    {
     "name": "stdout",
     "output_type": "stream",
     "text": [
      "213\n"
     ]
    },
    {
     "name": "stderr",
     "output_type": "stream",
     "text": [
      "HTTP Error for GET to https://api.spotify.com/v1/tracks/64NRP5zPfcCZJw8Lc61Wgi with Params: {'market': None} returned 404 due to None\n"
     ]
    },
    {
     "name": "stdout",
     "output_type": "stream",
     "text": [
      "214\n",
      "215\n",
      "216\n",
      "217\n",
      "218\n",
      "219\n",
      "220\n"
     ]
    },
    {
     "name": "stderr",
     "output_type": "stream",
     "text": [
      "HTTP Error for GET to https://api.spotify.com/v1/tracks/74vXJ96raFXCZRCLWiJqLa with Params: {'market': None} returned 404 due to None\n"
     ]
    },
    {
     "name": "stdout",
     "output_type": "stream",
     "text": [
      "221\n",
      "222\n",
      "223\n",
      "224\n",
      "225\n",
      "226\n",
      "227\n",
      "228\n"
     ]
    },
    {
     "name": "stderr",
     "output_type": "stream",
     "text": [
      "HTTP Error for GET to https://api.spotify.com/v1/tracks/3r7IhfxJ7YEeAddaamrMOj with Params: {'market': None} returned 404 due to None\n"
     ]
    },
    {
     "name": "stdout",
     "output_type": "stream",
     "text": [
      "229\n"
     ]
    },
    {
     "name": "stderr",
     "output_type": "stream",
     "text": [
      "HTTP Error for GET to https://api.spotify.com/v1/tracks/46r3JFRm4fsQfmUpLYRv5c with Params: {'market': None} returned 404 due to None\n"
     ]
    },
    {
     "name": "stdout",
     "output_type": "stream",
     "text": [
      "230\n",
      "231\n"
     ]
    },
    {
     "name": "stderr",
     "output_type": "stream",
     "text": [
      "HTTP Error for GET to https://api.spotify.com/v1/tracks/74oRVj4gRTVVFUVwTXAEl6 with Params: {'market': None} returned 404 due to None\n"
     ]
    },
    {
     "name": "stdout",
     "output_type": "stream",
     "text": [
      "232\n",
      "233\n",
      "234\n",
      "235\n",
      "236\n",
      "237\n",
      "238\n",
      "239\n",
      "240\n",
      "241\n",
      "242\n",
      "243\n",
      "244\n"
     ]
    },
    {
     "name": "stderr",
     "output_type": "stream",
     "text": [
      "HTTP Error for GET to https://api.spotify.com/v1/tracks/4OWPAMZcoRwAmMA971KBTh with Params: {'market': None} returned 404 due to None\n"
     ]
    },
    {
     "name": "stdout",
     "output_type": "stream",
     "text": [
      "245\n"
     ]
    },
    {
     "name": "stderr",
     "output_type": "stream",
     "text": [
      "HTTP Error for GET to https://api.spotify.com/v1/tracks/3d0Yv1Dzwvs3DHvxA2AU5H with Params: {'market': None} returned 404 due to None\n"
     ]
    },
    {
     "name": "stdout",
     "output_type": "stream",
     "text": [
      "246\n"
     ]
    },
    {
     "name": "stderr",
     "output_type": "stream",
     "text": [
      "HTTP Error for GET to https://api.spotify.com/v1/tracks/73r71URWgoSqUkAs61Ia15 with Params: {'market': None} returned 404 due to None\n"
     ]
    },
    {
     "name": "stdout",
     "output_type": "stream",
     "text": [
      "247\n",
      "248\n",
      "249\n",
      "250\n",
      "251\n",
      "252\n",
      "253\n",
      "254\n",
      "255\n"
     ]
    },
    {
     "name": "stderr",
     "output_type": "stream",
     "text": [
      "HTTP Error for GET to https://api.spotify.com/v1/tracks/1g2pomnU3K9f0f5wW4k0N0 with Params: {'market': None} returned 404 due to None\n"
     ]
    },
    {
     "name": "stdout",
     "output_type": "stream",
     "text": [
      "256\n",
      "257\n",
      "258\n",
      "259\n",
      "260\n"
     ]
    },
    {
     "name": "stderr",
     "output_type": "stream",
     "text": [
      "HTTP Error for GET to https://api.spotify.com/v1/tracks/7gsxST2AyUo9qLYsZoLQQp with Params: {'market': None} returned 404 due to None\n"
     ]
    },
    {
     "name": "stdout",
     "output_type": "stream",
     "text": [
      "261\n"
     ]
    },
    {
     "name": "stderr",
     "output_type": "stream",
     "text": [
      "HTTP Error for GET to https://api.spotify.com/v1/tracks/792qDctAy7ID9Ml7r995SC with Params: {'market': None} returned 404 due to None\n"
     ]
    },
    {
     "name": "stdout",
     "output_type": "stream",
     "text": [
      "262\n",
      "263\n"
     ]
    },
    {
     "name": "stderr",
     "output_type": "stream",
     "text": [
      "HTTP Error for GET to https://api.spotify.com/v1/tracks/1NCu345lBPgWrggHarmwMm with Params: {'market': None} returned 404 due to None\n",
      "HTTP Error for GET to https://api.spotify.com/v1/tracks/1NCu345lBPgWrggHarmwMm with Params: {'market': None} returned 404 due to None\n"
     ]
    },
    {
     "name": "stdout",
     "output_type": "stream",
     "text": [
      "264\n",
      "265\n",
      "266\n",
      "267\n",
      "268\n"
     ]
    },
    {
     "name": "stderr",
     "output_type": "stream",
     "text": [
      "HTTP Error for GET to https://api.spotify.com/v1/tracks/0l8D1UlWxFUCLQVQXsDHSn with Params: {'market': None} returned 404 due to None\n",
      "HTTP Error for GET to https://api.spotify.com/v1/tracks/76tMRLTVXYJpDxolXWgeCR with Params: {'market': None} returned 404 due to None\n"
     ]
    },
    {
     "name": "stdout",
     "output_type": "stream",
     "text": [
      "269\n",
      "270\n",
      "271\n",
      "272\n",
      "273\n",
      "274\n",
      "275\n",
      "276\n"
     ]
    },
    {
     "name": "stderr",
     "output_type": "stream",
     "text": [
      "HTTP Error for GET to https://api.spotify.com/v1/tracks/4EJHKSnHENfjOxXWryyNtL with Params: {'market': None} returned 404 due to None\n"
     ]
    },
    {
     "name": "stdout",
     "output_type": "stream",
     "text": [
      "277\n"
     ]
    },
    {
     "name": "stderr",
     "output_type": "stream",
     "text": [
      "HTTP Error for GET to https://api.spotify.com/v1/tracks/7GITeJYiPVZPRanHZgGKGe with Params: {'market': None} returned 404 due to None\n"
     ]
    },
    {
     "name": "stdout",
     "output_type": "stream",
     "text": [
      "278\n",
      "279\n",
      "280\n",
      "281\n",
      "282\n",
      "283\n"
     ]
    },
    {
     "name": "stderr",
     "output_type": "stream",
     "text": [
      "HTTP Error for GET to https://api.spotify.com/v1/tracks/003YhGD9o3REcz557KvJDM with Params: {'market': None} returned 404 due to None\n"
     ]
    },
    {
     "name": "stdout",
     "output_type": "stream",
     "text": [
      "284\n",
      "285\n"
     ]
    },
    {
     "name": "stderr",
     "output_type": "stream",
     "text": [
      "HTTP Error for GET to https://api.spotify.com/v1/tracks/6lmIGfqylVAv6xrHbZxgoh with Params: {'market': None} returned 404 due to None\n"
     ]
    },
    {
     "name": "stdout",
     "output_type": "stream",
     "text": [
      "286\n",
      "287\n",
      "288\n",
      "289\n",
      "290\n"
     ]
    },
    {
     "name": "stderr",
     "output_type": "stream",
     "text": [
      "HTTP Error for GET to https://api.spotify.com/v1/tracks/1RB6bKm3OOvnV3J4e51ru4 with Params: {'market': None} returned 404 due to None\n"
     ]
    },
    {
     "name": "stdout",
     "output_type": "stream",
     "text": [
      "291\n",
      "292\n",
      "293\n",
      "294\n",
      "295\n",
      "296\n",
      "297\n",
      "298\n"
     ]
    },
    {
     "name": "stderr",
     "output_type": "stream",
     "text": [
      "HTTP Error for GET to https://api.spotify.com/v1/tracks/6Udq2LjgHoghVV7a9GFDUG with Params: {'market': None} returned 404 due to None\n",
      "HTTP Error for GET to https://api.spotify.com/v1/tracks/6Udq2LjgHoghVV7a9GFDUG with Params: {'market': None} returned 404 due to None\n",
      "HTTP Error for GET to https://api.spotify.com/v1/tracks/3cxFqTIVCREmEgs2zEKULb with Params: {'market': None} returned 404 due to None\n"
     ]
    },
    {
     "name": "stdout",
     "output_type": "stream",
     "text": [
      "299\n",
      "300\n",
      "301\n",
      "302\n",
      "303\n"
     ]
    },
    {
     "name": "stderr",
     "output_type": "stream",
     "text": [
      "HTTP Error for GET to https://api.spotify.com/v1/tracks/2MbYIlcHVmm1GAvmbmTYNg with Params: {'market': None} returned 404 due to None\n"
     ]
    },
    {
     "name": "stdout",
     "output_type": "stream",
     "text": [
      "304\n",
      "305\n"
     ]
    },
    {
     "name": "stderr",
     "output_type": "stream",
     "text": [
      "HTTP Error for GET to https://api.spotify.com/v1/tracks/0UpSORxLtIEbY63Mr5sUlz with Params: {'market': None} returned 404 due to None\n"
     ]
    },
    {
     "name": "stdout",
     "output_type": "stream",
     "text": [
      "306\n",
      "307\n",
      "308\n",
      "309\n"
     ]
    },
    {
     "name": "stderr",
     "output_type": "stream",
     "text": [
      "HTTP Error for GET to https://api.spotify.com/v1/tracks/2HlLAQJS5Myqi79v0503Yp with Params: {'market': None} returned 404 due to None\n",
      "HTTP Error for GET to https://api.spotify.com/v1/tracks/3V0TDMKx6ndjbPT4SdAq7V with Params: {'market': None} returned 404 due to None\n",
      "HTTP Error for GET to https://api.spotify.com/v1/artists/3tZdknQnzsVIIdaGCTj4RX/top-tracks with Params: {'country': 'US'} returned 404 due to None\n"
     ]
    },
    {
     "name": "stdout",
     "output_type": "stream",
     "text": [
      "310\n",
      "311\n",
      "312\n",
      "313\n",
      "314\n",
      "315\n",
      "316\n",
      "317\n",
      "318\n",
      "319\n",
      "320\n",
      "321\n",
      "322\n",
      "323\n",
      "324\n",
      "325\n",
      "326\n",
      "327\n",
      "328\n",
      "329\n",
      "330\n",
      "331\n",
      "332\n",
      "333\n"
     ]
    },
    {
     "name": "stderr",
     "output_type": "stream",
     "text": [
      "HTTP Error for GET to https://api.spotify.com/v1/tracks/3C1OLlcIHnknFGxxNXrQcK with Params: {'market': None} returned 404 due to None\n"
     ]
    },
    {
     "name": "stdout",
     "output_type": "stream",
     "text": [
      "334\n",
      "335\n",
      "336\n",
      "337\n",
      "338\n"
     ]
    },
    {
     "name": "stderr",
     "output_type": "stream",
     "text": [
      "HTTP Error for GET to https://api.spotify.com/v1/artists/7xtnpHS34mLlxGZDVUBHSU/top-tracks with Params: {'country': 'US'} returned 404 due to None\n"
     ]
    }
   ],
   "source": [
    "# We do the first round of colaborators of past colaborators + the initial list\n",
    "\n",
    "list_colabs_rap2 = list()\n",
    "\n",
    "for i,name in enumerate(first_round_rapers):\n",
    "    print(i)\n",
    "    result = None\n",
    "    while result is None:\n",
    "        try:\n",
    "            result = colab_top_tracks(name)\n",
    "        except:\n",
    "            time.sleep(3)\n",
    "    list_colabs_rap2.append(result)"
   ]
  },
  {
   "cell_type": "code",
   "execution_count": 43,
   "id": "23ae57b6",
   "metadata": {},
   "outputs": [],
   "source": [
    "# Create the data frame\n",
    "df = pd.DataFrame(list_colabs_rap2, columns=['Name', 'Colabos'])"
   ]
  },
  {
   "cell_type": "code",
   "execution_count": 44,
   "id": "07652769",
   "metadata": {},
   "outputs": [
    {
     "data": {
      "text/html": [
       "<div>\n",
       "<style scoped>\n",
       "    .dataframe tbody tr th:only-of-type {\n",
       "        vertical-align: middle;\n",
       "    }\n",
       "\n",
       "    .dataframe tbody tr th {\n",
       "        vertical-align: top;\n",
       "    }\n",
       "\n",
       "    .dataframe thead th {\n",
       "        text-align: right;\n",
       "    }\n",
       "</style>\n",
       "<table border=\"1\" class=\"dataframe\">\n",
       "  <thead>\n",
       "    <tr style=\"text-align: right;\">\n",
       "      <th></th>\n",
       "      <th>Name</th>\n",
       "      <th>Colabos</th>\n",
       "    </tr>\n",
       "  </thead>\n",
       "  <tbody>\n",
       "    <tr>\n",
       "      <th>0</th>\n",
       "      <td>Charles Ans</td>\n",
       "      <td>{Gera MX, Nico Maleón, Yoss Bones, Neto Peña, ...</td>\n",
       "    </tr>\n",
       "    <tr>\n",
       "      <th>1</th>\n",
       "      <td>Mambo Kingz</td>\n",
       "      <td>{Nacho, Arcangel, Bryant Myers, Baby Rasta, Br...</td>\n",
       "    </tr>\n",
       "    <tr>\n",
       "      <th>2</th>\n",
       "      <td>Recycled J</td>\n",
       "      <td>{Juancho Marqués, Selecta, InnerCut, Natos y W...</td>\n",
       "    </tr>\n",
       "    <tr>\n",
       "      <th>3</th>\n",
       "      <td>Rondodasosa</td>\n",
       "      <td>{SEVEN 7oo, Vale pain, Neima Ezza, A2 Anti, Ki...</td>\n",
       "    </tr>\n",
       "    <tr>\n",
       "      <th>4</th>\n",
       "      <td>Don Omar</td>\n",
       "      <td>{Nio Garcia, Natti Natasha, Plan B, Lucenzo, T...</td>\n",
       "    </tr>\n",
       "  </tbody>\n",
       "</table>\n",
       "</div>"
      ],
      "text/plain": [
       "          Name                                            Colabos\n",
       "0  Charles Ans  {Gera MX, Nico Maleón, Yoss Bones, Neto Peña, ...\n",
       "1  Mambo Kingz  {Nacho, Arcangel, Bryant Myers, Baby Rasta, Br...\n",
       "2   Recycled J  {Juancho Marqués, Selecta, InnerCut, Natos y W...\n",
       "3  Rondodasosa  {SEVEN 7oo, Vale pain, Neima Ezza, A2 Anti, Ki...\n",
       "4     Don Omar  {Nio Garcia, Natti Natasha, Plan B, Lucenzo, T..."
      ]
     },
     "execution_count": 44,
     "metadata": {},
     "output_type": "execute_result"
    }
   ],
   "source": [
    "df.head()"
   ]
  },
  {
   "cell_type": "code",
   "execution_count": 45,
   "id": "3ca415f2",
   "metadata": {},
   "outputs": [],
   "source": [
    "# export it to CSV"
   ]
  },
  {
   "cell_type": "code",
   "execution_count": 46,
   "id": "076f9127",
   "metadata": {},
   "outputs": [],
   "source": [
    "df.to_csv('main_database.csv', index = False)"
   ]
  },
  {
   "cell_type": "code",
   "execution_count": 47,
   "id": "a41ad38e",
   "metadata": {
    "scrolled": true
   },
   "outputs": [
    {
     "name": "stderr",
     "output_type": "stream",
     "text": [
      "C:\\Users\\icarl\\AppData\\Local\\Temp\\ipykernel_12196\\769801780.py:10: PerformanceWarning: DataFrame is highly fragmented.  This is usually the result of calling `frame.insert` many times, which has poor performance.  Consider joining all columns at once using pd.concat(axis=1) instead. To get a de-fragmented frame, use `newframe = frame.copy()`\n",
      "  df[rapero] = aux\n",
      "C:\\Users\\icarl\\AppData\\Local\\Temp\\ipykernel_12196\\769801780.py:10: PerformanceWarning: DataFrame is highly fragmented.  This is usually the result of calling `frame.insert` many times, which has poor performance.  Consider joining all columns at once using pd.concat(axis=1) instead. To get a de-fragmented frame, use `newframe = frame.copy()`\n",
      "  df[rapero] = aux\n",
      "C:\\Users\\icarl\\AppData\\Local\\Temp\\ipykernel_12196\\769801780.py:10: PerformanceWarning: DataFrame is highly fragmented.  This is usually the result of calling `frame.insert` many times, which has poor performance.  Consider joining all columns at once using pd.concat(axis=1) instead. To get a de-fragmented frame, use `newframe = frame.copy()`\n",
      "  df[rapero] = aux\n",
      "C:\\Users\\icarl\\AppData\\Local\\Temp\\ipykernel_12196\\769801780.py:10: PerformanceWarning: DataFrame is highly fragmented.  This is usually the result of calling `frame.insert` many times, which has poor performance.  Consider joining all columns at once using pd.concat(axis=1) instead. To get a de-fragmented frame, use `newframe = frame.copy()`\n",
      "  df[rapero] = aux\n",
      "C:\\Users\\icarl\\AppData\\Local\\Temp\\ipykernel_12196\\769801780.py:10: PerformanceWarning: DataFrame is highly fragmented.  This is usually the result of calling `frame.insert` many times, which has poor performance.  Consider joining all columns at once using pd.concat(axis=1) instead. To get a de-fragmented frame, use `newframe = frame.copy()`\n",
      "  df[rapero] = aux\n",
      "C:\\Users\\icarl\\AppData\\Local\\Temp\\ipykernel_12196\\769801780.py:10: PerformanceWarning: DataFrame is highly fragmented.  This is usually the result of calling `frame.insert` many times, which has poor performance.  Consider joining all columns at once using pd.concat(axis=1) instead. To get a de-fragmented frame, use `newframe = frame.copy()`\n",
      "  df[rapero] = aux\n",
      "C:\\Users\\icarl\\AppData\\Local\\Temp\\ipykernel_12196\\769801780.py:10: PerformanceWarning: DataFrame is highly fragmented.  This is usually the result of calling `frame.insert` many times, which has poor performance.  Consider joining all columns at once using pd.concat(axis=1) instead. To get a de-fragmented frame, use `newframe = frame.copy()`\n",
      "  df[rapero] = aux\n",
      "C:\\Users\\icarl\\AppData\\Local\\Temp\\ipykernel_12196\\769801780.py:10: PerformanceWarning: DataFrame is highly fragmented.  This is usually the result of calling `frame.insert` many times, which has poor performance.  Consider joining all columns at once using pd.concat(axis=1) instead. To get a de-fragmented frame, use `newframe = frame.copy()`\n",
      "  df[rapero] = aux\n",
      "C:\\Users\\icarl\\AppData\\Local\\Temp\\ipykernel_12196\\769801780.py:10: PerformanceWarning: DataFrame is highly fragmented.  This is usually the result of calling `frame.insert` many times, which has poor performance.  Consider joining all columns at once using pd.concat(axis=1) instead. To get a de-fragmented frame, use `newframe = frame.copy()`\n",
      "  df[rapero] = aux\n",
      "C:\\Users\\icarl\\AppData\\Local\\Temp\\ipykernel_12196\\769801780.py:10: PerformanceWarning: DataFrame is highly fragmented.  This is usually the result of calling `frame.insert` many times, which has poor performance.  Consider joining all columns at once using pd.concat(axis=1) instead. To get a de-fragmented frame, use `newframe = frame.copy()`\n",
      "  df[rapero] = aux\n",
      "C:\\Users\\icarl\\AppData\\Local\\Temp\\ipykernel_12196\\769801780.py:10: PerformanceWarning: DataFrame is highly fragmented.  This is usually the result of calling `frame.insert` many times, which has poor performance.  Consider joining all columns at once using pd.concat(axis=1) instead. To get a de-fragmented frame, use `newframe = frame.copy()`\n",
      "  df[rapero] = aux\n",
      "C:\\Users\\icarl\\AppData\\Local\\Temp\\ipykernel_12196\\769801780.py:10: PerformanceWarning: DataFrame is highly fragmented.  This is usually the result of calling `frame.insert` many times, which has poor performance.  Consider joining all columns at once using pd.concat(axis=1) instead. To get a de-fragmented frame, use `newframe = frame.copy()`\n",
      "  df[rapero] = aux\n",
      "C:\\Users\\icarl\\AppData\\Local\\Temp\\ipykernel_12196\\769801780.py:10: PerformanceWarning: DataFrame is highly fragmented.  This is usually the result of calling `frame.insert` many times, which has poor performance.  Consider joining all columns at once using pd.concat(axis=1) instead. To get a de-fragmented frame, use `newframe = frame.copy()`\n",
      "  df[rapero] = aux\n",
      "C:\\Users\\icarl\\AppData\\Local\\Temp\\ipykernel_12196\\769801780.py:10: PerformanceWarning: DataFrame is highly fragmented.  This is usually the result of calling `frame.insert` many times, which has poor performance.  Consider joining all columns at once using pd.concat(axis=1) instead. To get a de-fragmented frame, use `newframe = frame.copy()`\n",
      "  df[rapero] = aux\n",
      "C:\\Users\\icarl\\AppData\\Local\\Temp\\ipykernel_12196\\769801780.py:10: PerformanceWarning: DataFrame is highly fragmented.  This is usually the result of calling `frame.insert` many times, which has poor performance.  Consider joining all columns at once using pd.concat(axis=1) instead. To get a de-fragmented frame, use `newframe = frame.copy()`\n",
      "  df[rapero] = aux\n",
      "C:\\Users\\icarl\\AppData\\Local\\Temp\\ipykernel_12196\\769801780.py:10: PerformanceWarning: DataFrame is highly fragmented.  This is usually the result of calling `frame.insert` many times, which has poor performance.  Consider joining all columns at once using pd.concat(axis=1) instead. To get a de-fragmented frame, use `newframe = frame.copy()`\n",
      "  df[rapero] = aux\n",
      "C:\\Users\\icarl\\AppData\\Local\\Temp\\ipykernel_12196\\769801780.py:10: PerformanceWarning: DataFrame is highly fragmented.  This is usually the result of calling `frame.insert` many times, which has poor performance.  Consider joining all columns at once using pd.concat(axis=1) instead. To get a de-fragmented frame, use `newframe = frame.copy()`\n",
      "  df[rapero] = aux\n",
      "C:\\Users\\icarl\\AppData\\Local\\Temp\\ipykernel_12196\\769801780.py:10: PerformanceWarning: DataFrame is highly fragmented.  This is usually the result of calling `frame.insert` many times, which has poor performance.  Consider joining all columns at once using pd.concat(axis=1) instead. To get a de-fragmented frame, use `newframe = frame.copy()`\n",
      "  df[rapero] = aux\n",
      "C:\\Users\\icarl\\AppData\\Local\\Temp\\ipykernel_12196\\769801780.py:10: PerformanceWarning: DataFrame is highly fragmented.  This is usually the result of calling `frame.insert` many times, which has poor performance.  Consider joining all columns at once using pd.concat(axis=1) instead. To get a de-fragmented frame, use `newframe = frame.copy()`\n",
      "  df[rapero] = aux\n",
      "C:\\Users\\icarl\\AppData\\Local\\Temp\\ipykernel_12196\\769801780.py:10: PerformanceWarning: DataFrame is highly fragmented.  This is usually the result of calling `frame.insert` many times, which has poor performance.  Consider joining all columns at once using pd.concat(axis=1) instead. To get a de-fragmented frame, use `newframe = frame.copy()`\n",
      "  df[rapero] = aux\n",
      "C:\\Users\\icarl\\AppData\\Local\\Temp\\ipykernel_12196\\769801780.py:10: PerformanceWarning: DataFrame is highly fragmented.  This is usually the result of calling `frame.insert` many times, which has poor performance.  Consider joining all columns at once using pd.concat(axis=1) instead. To get a de-fragmented frame, use `newframe = frame.copy()`\n",
      "  df[rapero] = aux\n",
      "C:\\Users\\icarl\\AppData\\Local\\Temp\\ipykernel_12196\\769801780.py:10: PerformanceWarning: DataFrame is highly fragmented.  This is usually the result of calling `frame.insert` many times, which has poor performance.  Consider joining all columns at once using pd.concat(axis=1) instead. To get a de-fragmented frame, use `newframe = frame.copy()`\n",
      "  df[rapero] = aux\n",
      "C:\\Users\\icarl\\AppData\\Local\\Temp\\ipykernel_12196\\769801780.py:10: PerformanceWarning: DataFrame is highly fragmented.  This is usually the result of calling `frame.insert` many times, which has poor performance.  Consider joining all columns at once using pd.concat(axis=1) instead. To get a de-fragmented frame, use `newframe = frame.copy()`\n",
      "  df[rapero] = aux\n",
      "C:\\Users\\icarl\\AppData\\Local\\Temp\\ipykernel_12196\\769801780.py:10: PerformanceWarning: DataFrame is highly fragmented.  This is usually the result of calling `frame.insert` many times, which has poor performance.  Consider joining all columns at once using pd.concat(axis=1) instead. To get a de-fragmented frame, use `newframe = frame.copy()`\n",
      "  df[rapero] = aux\n",
      "C:\\Users\\icarl\\AppData\\Local\\Temp\\ipykernel_12196\\769801780.py:10: PerformanceWarning: DataFrame is highly fragmented.  This is usually the result of calling `frame.insert` many times, which has poor performance.  Consider joining all columns at once using pd.concat(axis=1) instead. To get a de-fragmented frame, use `newframe = frame.copy()`\n",
      "  df[rapero] = aux\n",
      "C:\\Users\\icarl\\AppData\\Local\\Temp\\ipykernel_12196\\769801780.py:10: PerformanceWarning: DataFrame is highly fragmented.  This is usually the result of calling `frame.insert` many times, which has poor performance.  Consider joining all columns at once using pd.concat(axis=1) instead. To get a de-fragmented frame, use `newframe = frame.copy()`\n",
      "  df[rapero] = aux\n",
      "C:\\Users\\icarl\\AppData\\Local\\Temp\\ipykernel_12196\\769801780.py:10: PerformanceWarning: DataFrame is highly fragmented.  This is usually the result of calling `frame.insert` many times, which has poor performance.  Consider joining all columns at once using pd.concat(axis=1) instead. To get a de-fragmented frame, use `newframe = frame.copy()`\n",
      "  df[rapero] = aux\n",
      "C:\\Users\\icarl\\AppData\\Local\\Temp\\ipykernel_12196\\769801780.py:10: PerformanceWarning: DataFrame is highly fragmented.  This is usually the result of calling `frame.insert` many times, which has poor performance.  Consider joining all columns at once using pd.concat(axis=1) instead. To get a de-fragmented frame, use `newframe = frame.copy()`\n",
      "  df[rapero] = aux\n",
      "C:\\Users\\icarl\\AppData\\Local\\Temp\\ipykernel_12196\\769801780.py:10: PerformanceWarning: DataFrame is highly fragmented.  This is usually the result of calling `frame.insert` many times, which has poor performance.  Consider joining all columns at once using pd.concat(axis=1) instead. To get a de-fragmented frame, use `newframe = frame.copy()`\n",
      "  df[rapero] = aux\n",
      "C:\\Users\\icarl\\AppData\\Local\\Temp\\ipykernel_12196\\769801780.py:10: PerformanceWarning: DataFrame is highly fragmented.  This is usually the result of calling `frame.insert` many times, which has poor performance.  Consider joining all columns at once using pd.concat(axis=1) instead. To get a de-fragmented frame, use `newframe = frame.copy()`\n",
      "  df[rapero] = aux\n",
      "C:\\Users\\icarl\\AppData\\Local\\Temp\\ipykernel_12196\\769801780.py:10: PerformanceWarning: DataFrame is highly fragmented.  This is usually the result of calling `frame.insert` many times, which has poor performance.  Consider joining all columns at once using pd.concat(axis=1) instead. To get a de-fragmented frame, use `newframe = frame.copy()`\n",
      "  df[rapero] = aux\n",
      "C:\\Users\\icarl\\AppData\\Local\\Temp\\ipykernel_12196\\769801780.py:10: PerformanceWarning: DataFrame is highly fragmented.  This is usually the result of calling `frame.insert` many times, which has poor performance.  Consider joining all columns at once using pd.concat(axis=1) instead. To get a de-fragmented frame, use `newframe = frame.copy()`\n",
      "  df[rapero] = aux\n",
      "C:\\Users\\icarl\\AppData\\Local\\Temp\\ipykernel_12196\\769801780.py:10: PerformanceWarning: DataFrame is highly fragmented.  This is usually the result of calling `frame.insert` many times, which has poor performance.  Consider joining all columns at once using pd.concat(axis=1) instead. To get a de-fragmented frame, use `newframe = frame.copy()`\n",
      "  df[rapero] = aux\n",
      "C:\\Users\\icarl\\AppData\\Local\\Temp\\ipykernel_12196\\769801780.py:10: PerformanceWarning: DataFrame is highly fragmented.  This is usually the result of calling `frame.insert` many times, which has poor performance.  Consider joining all columns at once using pd.concat(axis=1) instead. To get a de-fragmented frame, use `newframe = frame.copy()`\n",
      "  df[rapero] = aux\n",
      "C:\\Users\\icarl\\AppData\\Local\\Temp\\ipykernel_12196\\769801780.py:10: PerformanceWarning: DataFrame is highly fragmented.  This is usually the result of calling `frame.insert` many times, which has poor performance.  Consider joining all columns at once using pd.concat(axis=1) instead. To get a de-fragmented frame, use `newframe = frame.copy()`\n",
      "  df[rapero] = aux\n",
      "C:\\Users\\icarl\\AppData\\Local\\Temp\\ipykernel_12196\\769801780.py:10: PerformanceWarning: DataFrame is highly fragmented.  This is usually the result of calling `frame.insert` many times, which has poor performance.  Consider joining all columns at once using pd.concat(axis=1) instead. To get a de-fragmented frame, use `newframe = frame.copy()`\n",
      "  df[rapero] = aux\n",
      "C:\\Users\\icarl\\AppData\\Local\\Temp\\ipykernel_12196\\769801780.py:10: PerformanceWarning: DataFrame is highly fragmented.  This is usually the result of calling `frame.insert` many times, which has poor performance.  Consider joining all columns at once using pd.concat(axis=1) instead. To get a de-fragmented frame, use `newframe = frame.copy()`\n",
      "  df[rapero] = aux\n",
      "C:\\Users\\icarl\\AppData\\Local\\Temp\\ipykernel_12196\\769801780.py:10: PerformanceWarning: DataFrame is highly fragmented.  This is usually the result of calling `frame.insert` many times, which has poor performance.  Consider joining all columns at once using pd.concat(axis=1) instead. To get a de-fragmented frame, use `newframe = frame.copy()`\n",
      "  df[rapero] = aux\n"
     ]
    },
    {
     "name": "stderr",
     "output_type": "stream",
     "text": [
      "C:\\Users\\icarl\\AppData\\Local\\Temp\\ipykernel_12196\\769801780.py:10: PerformanceWarning: DataFrame is highly fragmented.  This is usually the result of calling `frame.insert` many times, which has poor performance.  Consider joining all columns at once using pd.concat(axis=1) instead. To get a de-fragmented frame, use `newframe = frame.copy()`\n",
      "  df[rapero] = aux\n",
      "C:\\Users\\icarl\\AppData\\Local\\Temp\\ipykernel_12196\\769801780.py:10: PerformanceWarning: DataFrame is highly fragmented.  This is usually the result of calling `frame.insert` many times, which has poor performance.  Consider joining all columns at once using pd.concat(axis=1) instead. To get a de-fragmented frame, use `newframe = frame.copy()`\n",
      "  df[rapero] = aux\n",
      "C:\\Users\\icarl\\AppData\\Local\\Temp\\ipykernel_12196\\769801780.py:10: PerformanceWarning: DataFrame is highly fragmented.  This is usually the result of calling `frame.insert` many times, which has poor performance.  Consider joining all columns at once using pd.concat(axis=1) instead. To get a de-fragmented frame, use `newframe = frame.copy()`\n",
      "  df[rapero] = aux\n",
      "C:\\Users\\icarl\\AppData\\Local\\Temp\\ipykernel_12196\\769801780.py:10: PerformanceWarning: DataFrame is highly fragmented.  This is usually the result of calling `frame.insert` many times, which has poor performance.  Consider joining all columns at once using pd.concat(axis=1) instead. To get a de-fragmented frame, use `newframe = frame.copy()`\n",
      "  df[rapero] = aux\n",
      "C:\\Users\\icarl\\AppData\\Local\\Temp\\ipykernel_12196\\769801780.py:10: PerformanceWarning: DataFrame is highly fragmented.  This is usually the result of calling `frame.insert` many times, which has poor performance.  Consider joining all columns at once using pd.concat(axis=1) instead. To get a de-fragmented frame, use `newframe = frame.copy()`\n",
      "  df[rapero] = aux\n",
      "C:\\Users\\icarl\\AppData\\Local\\Temp\\ipykernel_12196\\769801780.py:10: PerformanceWarning: DataFrame is highly fragmented.  This is usually the result of calling `frame.insert` many times, which has poor performance.  Consider joining all columns at once using pd.concat(axis=1) instead. To get a de-fragmented frame, use `newframe = frame.copy()`\n",
      "  df[rapero] = aux\n",
      "C:\\Users\\icarl\\AppData\\Local\\Temp\\ipykernel_12196\\769801780.py:10: PerformanceWarning: DataFrame is highly fragmented.  This is usually the result of calling `frame.insert` many times, which has poor performance.  Consider joining all columns at once using pd.concat(axis=1) instead. To get a de-fragmented frame, use `newframe = frame.copy()`\n",
      "  df[rapero] = aux\n",
      "C:\\Users\\icarl\\AppData\\Local\\Temp\\ipykernel_12196\\769801780.py:10: PerformanceWarning: DataFrame is highly fragmented.  This is usually the result of calling `frame.insert` many times, which has poor performance.  Consider joining all columns at once using pd.concat(axis=1) instead. To get a de-fragmented frame, use `newframe = frame.copy()`\n",
      "  df[rapero] = aux\n",
      "C:\\Users\\icarl\\AppData\\Local\\Temp\\ipykernel_12196\\769801780.py:10: PerformanceWarning: DataFrame is highly fragmented.  This is usually the result of calling `frame.insert` many times, which has poor performance.  Consider joining all columns at once using pd.concat(axis=1) instead. To get a de-fragmented frame, use `newframe = frame.copy()`\n",
      "  df[rapero] = aux\n",
      "C:\\Users\\icarl\\AppData\\Local\\Temp\\ipykernel_12196\\769801780.py:10: PerformanceWarning: DataFrame is highly fragmented.  This is usually the result of calling `frame.insert` many times, which has poor performance.  Consider joining all columns at once using pd.concat(axis=1) instead. To get a de-fragmented frame, use `newframe = frame.copy()`\n",
      "  df[rapero] = aux\n",
      "C:\\Users\\icarl\\AppData\\Local\\Temp\\ipykernel_12196\\769801780.py:10: PerformanceWarning: DataFrame is highly fragmented.  This is usually the result of calling `frame.insert` many times, which has poor performance.  Consider joining all columns at once using pd.concat(axis=1) instead. To get a de-fragmented frame, use `newframe = frame.copy()`\n",
      "  df[rapero] = aux\n",
      "C:\\Users\\icarl\\AppData\\Local\\Temp\\ipykernel_12196\\769801780.py:10: PerformanceWarning: DataFrame is highly fragmented.  This is usually the result of calling `frame.insert` many times, which has poor performance.  Consider joining all columns at once using pd.concat(axis=1) instead. To get a de-fragmented frame, use `newframe = frame.copy()`\n",
      "  df[rapero] = aux\n",
      "C:\\Users\\icarl\\AppData\\Local\\Temp\\ipykernel_12196\\769801780.py:10: PerformanceWarning: DataFrame is highly fragmented.  This is usually the result of calling `frame.insert` many times, which has poor performance.  Consider joining all columns at once using pd.concat(axis=1) instead. To get a de-fragmented frame, use `newframe = frame.copy()`\n",
      "  df[rapero] = aux\n",
      "C:\\Users\\icarl\\AppData\\Local\\Temp\\ipykernel_12196\\769801780.py:10: PerformanceWarning: DataFrame is highly fragmented.  This is usually the result of calling `frame.insert` many times, which has poor performance.  Consider joining all columns at once using pd.concat(axis=1) instead. To get a de-fragmented frame, use `newframe = frame.copy()`\n",
      "  df[rapero] = aux\n",
      "C:\\Users\\icarl\\AppData\\Local\\Temp\\ipykernel_12196\\769801780.py:10: PerformanceWarning: DataFrame is highly fragmented.  This is usually the result of calling `frame.insert` many times, which has poor performance.  Consider joining all columns at once using pd.concat(axis=1) instead. To get a de-fragmented frame, use `newframe = frame.copy()`\n",
      "  df[rapero] = aux\n",
      "C:\\Users\\icarl\\AppData\\Local\\Temp\\ipykernel_12196\\769801780.py:10: PerformanceWarning: DataFrame is highly fragmented.  This is usually the result of calling `frame.insert` many times, which has poor performance.  Consider joining all columns at once using pd.concat(axis=1) instead. To get a de-fragmented frame, use `newframe = frame.copy()`\n",
      "  df[rapero] = aux\n",
      "C:\\Users\\icarl\\AppData\\Local\\Temp\\ipykernel_12196\\769801780.py:10: PerformanceWarning: DataFrame is highly fragmented.  This is usually the result of calling `frame.insert` many times, which has poor performance.  Consider joining all columns at once using pd.concat(axis=1) instead. To get a de-fragmented frame, use `newframe = frame.copy()`\n",
      "  df[rapero] = aux\n",
      "C:\\Users\\icarl\\AppData\\Local\\Temp\\ipykernel_12196\\769801780.py:10: PerformanceWarning: DataFrame is highly fragmented.  This is usually the result of calling `frame.insert` many times, which has poor performance.  Consider joining all columns at once using pd.concat(axis=1) instead. To get a de-fragmented frame, use `newframe = frame.copy()`\n",
      "  df[rapero] = aux\n",
      "C:\\Users\\icarl\\AppData\\Local\\Temp\\ipykernel_12196\\769801780.py:10: PerformanceWarning: DataFrame is highly fragmented.  This is usually the result of calling `frame.insert` many times, which has poor performance.  Consider joining all columns at once using pd.concat(axis=1) instead. To get a de-fragmented frame, use `newframe = frame.copy()`\n",
      "  df[rapero] = aux\n",
      "C:\\Users\\icarl\\AppData\\Local\\Temp\\ipykernel_12196\\769801780.py:10: PerformanceWarning: DataFrame is highly fragmented.  This is usually the result of calling `frame.insert` many times, which has poor performance.  Consider joining all columns at once using pd.concat(axis=1) instead. To get a de-fragmented frame, use `newframe = frame.copy()`\n",
      "  df[rapero] = aux\n",
      "C:\\Users\\icarl\\AppData\\Local\\Temp\\ipykernel_12196\\769801780.py:10: PerformanceWarning: DataFrame is highly fragmented.  This is usually the result of calling `frame.insert` many times, which has poor performance.  Consider joining all columns at once using pd.concat(axis=1) instead. To get a de-fragmented frame, use `newframe = frame.copy()`\n",
      "  df[rapero] = aux\n",
      "C:\\Users\\icarl\\AppData\\Local\\Temp\\ipykernel_12196\\769801780.py:10: PerformanceWarning: DataFrame is highly fragmented.  This is usually the result of calling `frame.insert` many times, which has poor performance.  Consider joining all columns at once using pd.concat(axis=1) instead. To get a de-fragmented frame, use `newframe = frame.copy()`\n",
      "  df[rapero] = aux\n",
      "C:\\Users\\icarl\\AppData\\Local\\Temp\\ipykernel_12196\\769801780.py:10: PerformanceWarning: DataFrame is highly fragmented.  This is usually the result of calling `frame.insert` many times, which has poor performance.  Consider joining all columns at once using pd.concat(axis=1) instead. To get a de-fragmented frame, use `newframe = frame.copy()`\n",
      "  df[rapero] = aux\n",
      "C:\\Users\\icarl\\AppData\\Local\\Temp\\ipykernel_12196\\769801780.py:10: PerformanceWarning: DataFrame is highly fragmented.  This is usually the result of calling `frame.insert` many times, which has poor performance.  Consider joining all columns at once using pd.concat(axis=1) instead. To get a de-fragmented frame, use `newframe = frame.copy()`\n",
      "  df[rapero] = aux\n",
      "C:\\Users\\icarl\\AppData\\Local\\Temp\\ipykernel_12196\\769801780.py:10: PerformanceWarning: DataFrame is highly fragmented.  This is usually the result of calling `frame.insert` many times, which has poor performance.  Consider joining all columns at once using pd.concat(axis=1) instead. To get a de-fragmented frame, use `newframe = frame.copy()`\n",
      "  df[rapero] = aux\n",
      "C:\\Users\\icarl\\AppData\\Local\\Temp\\ipykernel_12196\\769801780.py:10: PerformanceWarning: DataFrame is highly fragmented.  This is usually the result of calling `frame.insert` many times, which has poor performance.  Consider joining all columns at once using pd.concat(axis=1) instead. To get a de-fragmented frame, use `newframe = frame.copy()`\n",
      "  df[rapero] = aux\n",
      "C:\\Users\\icarl\\AppData\\Local\\Temp\\ipykernel_12196\\769801780.py:10: PerformanceWarning: DataFrame is highly fragmented.  This is usually the result of calling `frame.insert` many times, which has poor performance.  Consider joining all columns at once using pd.concat(axis=1) instead. To get a de-fragmented frame, use `newframe = frame.copy()`\n",
      "  df[rapero] = aux\n",
      "C:\\Users\\icarl\\AppData\\Local\\Temp\\ipykernel_12196\\769801780.py:10: PerformanceWarning: DataFrame is highly fragmented.  This is usually the result of calling `frame.insert` many times, which has poor performance.  Consider joining all columns at once using pd.concat(axis=1) instead. To get a de-fragmented frame, use `newframe = frame.copy()`\n",
      "  df[rapero] = aux\n",
      "C:\\Users\\icarl\\AppData\\Local\\Temp\\ipykernel_12196\\769801780.py:10: PerformanceWarning: DataFrame is highly fragmented.  This is usually the result of calling `frame.insert` many times, which has poor performance.  Consider joining all columns at once using pd.concat(axis=1) instead. To get a de-fragmented frame, use `newframe = frame.copy()`\n",
      "  df[rapero] = aux\n"
     ]
    },
    {
     "name": "stderr",
     "output_type": "stream",
     "text": [
      "C:\\Users\\icarl\\AppData\\Local\\Temp\\ipykernel_12196\\769801780.py:10: PerformanceWarning: DataFrame is highly fragmented.  This is usually the result of calling `frame.insert` many times, which has poor performance.  Consider joining all columns at once using pd.concat(axis=1) instead. To get a de-fragmented frame, use `newframe = frame.copy()`\n",
      "  df[rapero] = aux\n",
      "C:\\Users\\icarl\\AppData\\Local\\Temp\\ipykernel_12196\\769801780.py:10: PerformanceWarning: DataFrame is highly fragmented.  This is usually the result of calling `frame.insert` many times, which has poor performance.  Consider joining all columns at once using pd.concat(axis=1) instead. To get a de-fragmented frame, use `newframe = frame.copy()`\n",
      "  df[rapero] = aux\n",
      "C:\\Users\\icarl\\AppData\\Local\\Temp\\ipykernel_12196\\769801780.py:10: PerformanceWarning: DataFrame is highly fragmented.  This is usually the result of calling `frame.insert` many times, which has poor performance.  Consider joining all columns at once using pd.concat(axis=1) instead. To get a de-fragmented frame, use `newframe = frame.copy()`\n",
      "  df[rapero] = aux\n",
      "C:\\Users\\icarl\\AppData\\Local\\Temp\\ipykernel_12196\\769801780.py:10: PerformanceWarning: DataFrame is highly fragmented.  This is usually the result of calling `frame.insert` many times, which has poor performance.  Consider joining all columns at once using pd.concat(axis=1) instead. To get a de-fragmented frame, use `newframe = frame.copy()`\n",
      "  df[rapero] = aux\n",
      "C:\\Users\\icarl\\AppData\\Local\\Temp\\ipykernel_12196\\769801780.py:10: PerformanceWarning: DataFrame is highly fragmented.  This is usually the result of calling `frame.insert` many times, which has poor performance.  Consider joining all columns at once using pd.concat(axis=1) instead. To get a de-fragmented frame, use `newframe = frame.copy()`\n",
      "  df[rapero] = aux\n",
      "C:\\Users\\icarl\\AppData\\Local\\Temp\\ipykernel_12196\\769801780.py:10: PerformanceWarning: DataFrame is highly fragmented.  This is usually the result of calling `frame.insert` many times, which has poor performance.  Consider joining all columns at once using pd.concat(axis=1) instead. To get a de-fragmented frame, use `newframe = frame.copy()`\n",
      "  df[rapero] = aux\n",
      "C:\\Users\\icarl\\AppData\\Local\\Temp\\ipykernel_12196\\769801780.py:10: PerformanceWarning: DataFrame is highly fragmented.  This is usually the result of calling `frame.insert` many times, which has poor performance.  Consider joining all columns at once using pd.concat(axis=1) instead. To get a de-fragmented frame, use `newframe = frame.copy()`\n",
      "  df[rapero] = aux\n",
      "C:\\Users\\icarl\\AppData\\Local\\Temp\\ipykernel_12196\\769801780.py:10: PerformanceWarning: DataFrame is highly fragmented.  This is usually the result of calling `frame.insert` many times, which has poor performance.  Consider joining all columns at once using pd.concat(axis=1) instead. To get a de-fragmented frame, use `newframe = frame.copy()`\n",
      "  df[rapero] = aux\n",
      "C:\\Users\\icarl\\AppData\\Local\\Temp\\ipykernel_12196\\769801780.py:10: PerformanceWarning: DataFrame is highly fragmented.  This is usually the result of calling `frame.insert` many times, which has poor performance.  Consider joining all columns at once using pd.concat(axis=1) instead. To get a de-fragmented frame, use `newframe = frame.copy()`\n",
      "  df[rapero] = aux\n",
      "C:\\Users\\icarl\\AppData\\Local\\Temp\\ipykernel_12196\\769801780.py:10: PerformanceWarning: DataFrame is highly fragmented.  This is usually the result of calling `frame.insert` many times, which has poor performance.  Consider joining all columns at once using pd.concat(axis=1) instead. To get a de-fragmented frame, use `newframe = frame.copy()`\n",
      "  df[rapero] = aux\n",
      "C:\\Users\\icarl\\AppData\\Local\\Temp\\ipykernel_12196\\769801780.py:10: PerformanceWarning: DataFrame is highly fragmented.  This is usually the result of calling `frame.insert` many times, which has poor performance.  Consider joining all columns at once using pd.concat(axis=1) instead. To get a de-fragmented frame, use `newframe = frame.copy()`\n",
      "  df[rapero] = aux\n",
      "C:\\Users\\icarl\\AppData\\Local\\Temp\\ipykernel_12196\\769801780.py:10: PerformanceWarning: DataFrame is highly fragmented.  This is usually the result of calling `frame.insert` many times, which has poor performance.  Consider joining all columns at once using pd.concat(axis=1) instead. To get a de-fragmented frame, use `newframe = frame.copy()`\n",
      "  df[rapero] = aux\n",
      "C:\\Users\\icarl\\AppData\\Local\\Temp\\ipykernel_12196\\769801780.py:10: PerformanceWarning: DataFrame is highly fragmented.  This is usually the result of calling `frame.insert` many times, which has poor performance.  Consider joining all columns at once using pd.concat(axis=1) instead. To get a de-fragmented frame, use `newframe = frame.copy()`\n",
      "  df[rapero] = aux\n",
      "C:\\Users\\icarl\\AppData\\Local\\Temp\\ipykernel_12196\\769801780.py:10: PerformanceWarning: DataFrame is highly fragmented.  This is usually the result of calling `frame.insert` many times, which has poor performance.  Consider joining all columns at once using pd.concat(axis=1) instead. To get a de-fragmented frame, use `newframe = frame.copy()`\n",
      "  df[rapero] = aux\n",
      "C:\\Users\\icarl\\AppData\\Local\\Temp\\ipykernel_12196\\769801780.py:10: PerformanceWarning: DataFrame is highly fragmented.  This is usually the result of calling `frame.insert` many times, which has poor performance.  Consider joining all columns at once using pd.concat(axis=1) instead. To get a de-fragmented frame, use `newframe = frame.copy()`\n",
      "  df[rapero] = aux\n",
      "C:\\Users\\icarl\\AppData\\Local\\Temp\\ipykernel_12196\\769801780.py:10: PerformanceWarning: DataFrame is highly fragmented.  This is usually the result of calling `frame.insert` many times, which has poor performance.  Consider joining all columns at once using pd.concat(axis=1) instead. To get a de-fragmented frame, use `newframe = frame.copy()`\n",
      "  df[rapero] = aux\n",
      "C:\\Users\\icarl\\AppData\\Local\\Temp\\ipykernel_12196\\769801780.py:10: PerformanceWarning: DataFrame is highly fragmented.  This is usually the result of calling `frame.insert` many times, which has poor performance.  Consider joining all columns at once using pd.concat(axis=1) instead. To get a de-fragmented frame, use `newframe = frame.copy()`\n",
      "  df[rapero] = aux\n",
      "C:\\Users\\icarl\\AppData\\Local\\Temp\\ipykernel_12196\\769801780.py:10: PerformanceWarning: DataFrame is highly fragmented.  This is usually the result of calling `frame.insert` many times, which has poor performance.  Consider joining all columns at once using pd.concat(axis=1) instead. To get a de-fragmented frame, use `newframe = frame.copy()`\n",
      "  df[rapero] = aux\n",
      "C:\\Users\\icarl\\AppData\\Local\\Temp\\ipykernel_12196\\769801780.py:10: PerformanceWarning: DataFrame is highly fragmented.  This is usually the result of calling `frame.insert` many times, which has poor performance.  Consider joining all columns at once using pd.concat(axis=1) instead. To get a de-fragmented frame, use `newframe = frame.copy()`\n",
      "  df[rapero] = aux\n",
      "C:\\Users\\icarl\\AppData\\Local\\Temp\\ipykernel_12196\\769801780.py:10: PerformanceWarning: DataFrame is highly fragmented.  This is usually the result of calling `frame.insert` many times, which has poor performance.  Consider joining all columns at once using pd.concat(axis=1) instead. To get a de-fragmented frame, use `newframe = frame.copy()`\n",
      "  df[rapero] = aux\n",
      "C:\\Users\\icarl\\AppData\\Local\\Temp\\ipykernel_12196\\769801780.py:10: PerformanceWarning: DataFrame is highly fragmented.  This is usually the result of calling `frame.insert` many times, which has poor performance.  Consider joining all columns at once using pd.concat(axis=1) instead. To get a de-fragmented frame, use `newframe = frame.copy()`\n",
      "  df[rapero] = aux\n",
      "C:\\Users\\icarl\\AppData\\Local\\Temp\\ipykernel_12196\\769801780.py:10: PerformanceWarning: DataFrame is highly fragmented.  This is usually the result of calling `frame.insert` many times, which has poor performance.  Consider joining all columns at once using pd.concat(axis=1) instead. To get a de-fragmented frame, use `newframe = frame.copy()`\n",
      "  df[rapero] = aux\n",
      "C:\\Users\\icarl\\AppData\\Local\\Temp\\ipykernel_12196\\769801780.py:10: PerformanceWarning: DataFrame is highly fragmented.  This is usually the result of calling `frame.insert` many times, which has poor performance.  Consider joining all columns at once using pd.concat(axis=1) instead. To get a de-fragmented frame, use `newframe = frame.copy()`\n",
      "  df[rapero] = aux\n",
      "C:\\Users\\icarl\\AppData\\Local\\Temp\\ipykernel_12196\\769801780.py:10: PerformanceWarning: DataFrame is highly fragmented.  This is usually the result of calling `frame.insert` many times, which has poor performance.  Consider joining all columns at once using pd.concat(axis=1) instead. To get a de-fragmented frame, use `newframe = frame.copy()`\n",
      "  df[rapero] = aux\n",
      "C:\\Users\\icarl\\AppData\\Local\\Temp\\ipykernel_12196\\769801780.py:10: PerformanceWarning: DataFrame is highly fragmented.  This is usually the result of calling `frame.insert` many times, which has poor performance.  Consider joining all columns at once using pd.concat(axis=1) instead. To get a de-fragmented frame, use `newframe = frame.copy()`\n",
      "  df[rapero] = aux\n",
      "C:\\Users\\icarl\\AppData\\Local\\Temp\\ipykernel_12196\\769801780.py:10: PerformanceWarning: DataFrame is highly fragmented.  This is usually the result of calling `frame.insert` many times, which has poor performance.  Consider joining all columns at once using pd.concat(axis=1) instead. To get a de-fragmented frame, use `newframe = frame.copy()`\n",
      "  df[rapero] = aux\n"
     ]
    },
    {
     "name": "stderr",
     "output_type": "stream",
     "text": [
      "C:\\Users\\icarl\\AppData\\Local\\Temp\\ipykernel_12196\\769801780.py:10: PerformanceWarning: DataFrame is highly fragmented.  This is usually the result of calling `frame.insert` many times, which has poor performance.  Consider joining all columns at once using pd.concat(axis=1) instead. To get a de-fragmented frame, use `newframe = frame.copy()`\n",
      "  df[rapero] = aux\n",
      "C:\\Users\\icarl\\AppData\\Local\\Temp\\ipykernel_12196\\769801780.py:10: PerformanceWarning: DataFrame is highly fragmented.  This is usually the result of calling `frame.insert` many times, which has poor performance.  Consider joining all columns at once using pd.concat(axis=1) instead. To get a de-fragmented frame, use `newframe = frame.copy()`\n",
      "  df[rapero] = aux\n",
      "C:\\Users\\icarl\\AppData\\Local\\Temp\\ipykernel_12196\\769801780.py:10: PerformanceWarning: DataFrame is highly fragmented.  This is usually the result of calling `frame.insert` many times, which has poor performance.  Consider joining all columns at once using pd.concat(axis=1) instead. To get a de-fragmented frame, use `newframe = frame.copy()`\n",
      "  df[rapero] = aux\n",
      "C:\\Users\\icarl\\AppData\\Local\\Temp\\ipykernel_12196\\769801780.py:10: PerformanceWarning: DataFrame is highly fragmented.  This is usually the result of calling `frame.insert` many times, which has poor performance.  Consider joining all columns at once using pd.concat(axis=1) instead. To get a de-fragmented frame, use `newframe = frame.copy()`\n",
      "  df[rapero] = aux\n",
      "C:\\Users\\icarl\\AppData\\Local\\Temp\\ipykernel_12196\\769801780.py:10: PerformanceWarning: DataFrame is highly fragmented.  This is usually the result of calling `frame.insert` many times, which has poor performance.  Consider joining all columns at once using pd.concat(axis=1) instead. To get a de-fragmented frame, use `newframe = frame.copy()`\n",
      "  df[rapero] = aux\n",
      "C:\\Users\\icarl\\AppData\\Local\\Temp\\ipykernel_12196\\769801780.py:10: PerformanceWarning: DataFrame is highly fragmented.  This is usually the result of calling `frame.insert` many times, which has poor performance.  Consider joining all columns at once using pd.concat(axis=1) instead. To get a de-fragmented frame, use `newframe = frame.copy()`\n",
      "  df[rapero] = aux\n",
      "C:\\Users\\icarl\\AppData\\Local\\Temp\\ipykernel_12196\\769801780.py:10: PerformanceWarning: DataFrame is highly fragmented.  This is usually the result of calling `frame.insert` many times, which has poor performance.  Consider joining all columns at once using pd.concat(axis=1) instead. To get a de-fragmented frame, use `newframe = frame.copy()`\n",
      "  df[rapero] = aux\n",
      "C:\\Users\\icarl\\AppData\\Local\\Temp\\ipykernel_12196\\769801780.py:10: PerformanceWarning: DataFrame is highly fragmented.  This is usually the result of calling `frame.insert` many times, which has poor performance.  Consider joining all columns at once using pd.concat(axis=1) instead. To get a de-fragmented frame, use `newframe = frame.copy()`\n",
      "  df[rapero] = aux\n",
      "C:\\Users\\icarl\\AppData\\Local\\Temp\\ipykernel_12196\\769801780.py:10: PerformanceWarning: DataFrame is highly fragmented.  This is usually the result of calling `frame.insert` many times, which has poor performance.  Consider joining all columns at once using pd.concat(axis=1) instead. To get a de-fragmented frame, use `newframe = frame.copy()`\n",
      "  df[rapero] = aux\n",
      "C:\\Users\\icarl\\AppData\\Local\\Temp\\ipykernel_12196\\769801780.py:10: PerformanceWarning: DataFrame is highly fragmented.  This is usually the result of calling `frame.insert` many times, which has poor performance.  Consider joining all columns at once using pd.concat(axis=1) instead. To get a de-fragmented frame, use `newframe = frame.copy()`\n",
      "  df[rapero] = aux\n",
      "C:\\Users\\icarl\\AppData\\Local\\Temp\\ipykernel_12196\\769801780.py:10: PerformanceWarning: DataFrame is highly fragmented.  This is usually the result of calling `frame.insert` many times, which has poor performance.  Consider joining all columns at once using pd.concat(axis=1) instead. To get a de-fragmented frame, use `newframe = frame.copy()`\n",
      "  df[rapero] = aux\n",
      "C:\\Users\\icarl\\AppData\\Local\\Temp\\ipykernel_12196\\769801780.py:10: PerformanceWarning: DataFrame is highly fragmented.  This is usually the result of calling `frame.insert` many times, which has poor performance.  Consider joining all columns at once using pd.concat(axis=1) instead. To get a de-fragmented frame, use `newframe = frame.copy()`\n",
      "  df[rapero] = aux\n",
      "C:\\Users\\icarl\\AppData\\Local\\Temp\\ipykernel_12196\\769801780.py:10: PerformanceWarning: DataFrame is highly fragmented.  This is usually the result of calling `frame.insert` many times, which has poor performance.  Consider joining all columns at once using pd.concat(axis=1) instead. To get a de-fragmented frame, use `newframe = frame.copy()`\n",
      "  df[rapero] = aux\n",
      "C:\\Users\\icarl\\AppData\\Local\\Temp\\ipykernel_12196\\769801780.py:10: PerformanceWarning: DataFrame is highly fragmented.  This is usually the result of calling `frame.insert` many times, which has poor performance.  Consider joining all columns at once using pd.concat(axis=1) instead. To get a de-fragmented frame, use `newframe = frame.copy()`\n",
      "  df[rapero] = aux\n",
      "C:\\Users\\icarl\\AppData\\Local\\Temp\\ipykernel_12196\\769801780.py:10: PerformanceWarning: DataFrame is highly fragmented.  This is usually the result of calling `frame.insert` many times, which has poor performance.  Consider joining all columns at once using pd.concat(axis=1) instead. To get a de-fragmented frame, use `newframe = frame.copy()`\n",
      "  df[rapero] = aux\n",
      "C:\\Users\\icarl\\AppData\\Local\\Temp\\ipykernel_12196\\769801780.py:10: PerformanceWarning: DataFrame is highly fragmented.  This is usually the result of calling `frame.insert` many times, which has poor performance.  Consider joining all columns at once using pd.concat(axis=1) instead. To get a de-fragmented frame, use `newframe = frame.copy()`\n",
      "  df[rapero] = aux\n",
      "C:\\Users\\icarl\\AppData\\Local\\Temp\\ipykernel_12196\\769801780.py:10: PerformanceWarning: DataFrame is highly fragmented.  This is usually the result of calling `frame.insert` many times, which has poor performance.  Consider joining all columns at once using pd.concat(axis=1) instead. To get a de-fragmented frame, use `newframe = frame.copy()`\n",
      "  df[rapero] = aux\n",
      "C:\\Users\\icarl\\AppData\\Local\\Temp\\ipykernel_12196\\769801780.py:10: PerformanceWarning: DataFrame is highly fragmented.  This is usually the result of calling `frame.insert` many times, which has poor performance.  Consider joining all columns at once using pd.concat(axis=1) instead. To get a de-fragmented frame, use `newframe = frame.copy()`\n",
      "  df[rapero] = aux\n",
      "C:\\Users\\icarl\\AppData\\Local\\Temp\\ipykernel_12196\\769801780.py:10: PerformanceWarning: DataFrame is highly fragmented.  This is usually the result of calling `frame.insert` many times, which has poor performance.  Consider joining all columns at once using pd.concat(axis=1) instead. To get a de-fragmented frame, use `newframe = frame.copy()`\n",
      "  df[rapero] = aux\n",
      "C:\\Users\\icarl\\AppData\\Local\\Temp\\ipykernel_12196\\769801780.py:10: PerformanceWarning: DataFrame is highly fragmented.  This is usually the result of calling `frame.insert` many times, which has poor performance.  Consider joining all columns at once using pd.concat(axis=1) instead. To get a de-fragmented frame, use `newframe = frame.copy()`\n",
      "  df[rapero] = aux\n",
      "C:\\Users\\icarl\\AppData\\Local\\Temp\\ipykernel_12196\\769801780.py:10: PerformanceWarning: DataFrame is highly fragmented.  This is usually the result of calling `frame.insert` many times, which has poor performance.  Consider joining all columns at once using pd.concat(axis=1) instead. To get a de-fragmented frame, use `newframe = frame.copy()`\n",
      "  df[rapero] = aux\n",
      "C:\\Users\\icarl\\AppData\\Local\\Temp\\ipykernel_12196\\769801780.py:10: PerformanceWarning: DataFrame is highly fragmented.  This is usually the result of calling `frame.insert` many times, which has poor performance.  Consider joining all columns at once using pd.concat(axis=1) instead. To get a de-fragmented frame, use `newframe = frame.copy()`\n",
      "  df[rapero] = aux\n",
      "C:\\Users\\icarl\\AppData\\Local\\Temp\\ipykernel_12196\\769801780.py:10: PerformanceWarning: DataFrame is highly fragmented.  This is usually the result of calling `frame.insert` many times, which has poor performance.  Consider joining all columns at once using pd.concat(axis=1) instead. To get a de-fragmented frame, use `newframe = frame.copy()`\n",
      "  df[rapero] = aux\n",
      "C:\\Users\\icarl\\AppData\\Local\\Temp\\ipykernel_12196\\769801780.py:10: PerformanceWarning: DataFrame is highly fragmented.  This is usually the result of calling `frame.insert` many times, which has poor performance.  Consider joining all columns at once using pd.concat(axis=1) instead. To get a de-fragmented frame, use `newframe = frame.copy()`\n",
      "  df[rapero] = aux\n",
      "C:\\Users\\icarl\\AppData\\Local\\Temp\\ipykernel_12196\\769801780.py:10: PerformanceWarning: DataFrame is highly fragmented.  This is usually the result of calling `frame.insert` many times, which has poor performance.  Consider joining all columns at once using pd.concat(axis=1) instead. To get a de-fragmented frame, use `newframe = frame.copy()`\n",
      "  df[rapero] = aux\n",
      "C:\\Users\\icarl\\AppData\\Local\\Temp\\ipykernel_12196\\769801780.py:10: PerformanceWarning: DataFrame is highly fragmented.  This is usually the result of calling `frame.insert` many times, which has poor performance.  Consider joining all columns at once using pd.concat(axis=1) instead. To get a de-fragmented frame, use `newframe = frame.copy()`\n",
      "  df[rapero] = aux\n"
     ]
    },
    {
     "name": "stderr",
     "output_type": "stream",
     "text": [
      "C:\\Users\\icarl\\AppData\\Local\\Temp\\ipykernel_12196\\769801780.py:10: PerformanceWarning: DataFrame is highly fragmented.  This is usually the result of calling `frame.insert` many times, which has poor performance.  Consider joining all columns at once using pd.concat(axis=1) instead. To get a de-fragmented frame, use `newframe = frame.copy()`\n",
      "  df[rapero] = aux\n",
      "C:\\Users\\icarl\\AppData\\Local\\Temp\\ipykernel_12196\\769801780.py:10: PerformanceWarning: DataFrame is highly fragmented.  This is usually the result of calling `frame.insert` many times, which has poor performance.  Consider joining all columns at once using pd.concat(axis=1) instead. To get a de-fragmented frame, use `newframe = frame.copy()`\n",
      "  df[rapero] = aux\n",
      "C:\\Users\\icarl\\AppData\\Local\\Temp\\ipykernel_12196\\769801780.py:10: PerformanceWarning: DataFrame is highly fragmented.  This is usually the result of calling `frame.insert` many times, which has poor performance.  Consider joining all columns at once using pd.concat(axis=1) instead. To get a de-fragmented frame, use `newframe = frame.copy()`\n",
      "  df[rapero] = aux\n",
      "C:\\Users\\icarl\\AppData\\Local\\Temp\\ipykernel_12196\\769801780.py:10: PerformanceWarning: DataFrame is highly fragmented.  This is usually the result of calling `frame.insert` many times, which has poor performance.  Consider joining all columns at once using pd.concat(axis=1) instead. To get a de-fragmented frame, use `newframe = frame.copy()`\n",
      "  df[rapero] = aux\n",
      "C:\\Users\\icarl\\AppData\\Local\\Temp\\ipykernel_12196\\769801780.py:10: PerformanceWarning: DataFrame is highly fragmented.  This is usually the result of calling `frame.insert` many times, which has poor performance.  Consider joining all columns at once using pd.concat(axis=1) instead. To get a de-fragmented frame, use `newframe = frame.copy()`\n",
      "  df[rapero] = aux\n",
      "C:\\Users\\icarl\\AppData\\Local\\Temp\\ipykernel_12196\\769801780.py:10: PerformanceWarning: DataFrame is highly fragmented.  This is usually the result of calling `frame.insert` many times, which has poor performance.  Consider joining all columns at once using pd.concat(axis=1) instead. To get a de-fragmented frame, use `newframe = frame.copy()`\n",
      "  df[rapero] = aux\n",
      "C:\\Users\\icarl\\AppData\\Local\\Temp\\ipykernel_12196\\769801780.py:10: PerformanceWarning: DataFrame is highly fragmented.  This is usually the result of calling `frame.insert` many times, which has poor performance.  Consider joining all columns at once using pd.concat(axis=1) instead. To get a de-fragmented frame, use `newframe = frame.copy()`\n",
      "  df[rapero] = aux\n",
      "C:\\Users\\icarl\\AppData\\Local\\Temp\\ipykernel_12196\\769801780.py:10: PerformanceWarning: DataFrame is highly fragmented.  This is usually the result of calling `frame.insert` many times, which has poor performance.  Consider joining all columns at once using pd.concat(axis=1) instead. To get a de-fragmented frame, use `newframe = frame.copy()`\n",
      "  df[rapero] = aux\n",
      "C:\\Users\\icarl\\AppData\\Local\\Temp\\ipykernel_12196\\769801780.py:10: PerformanceWarning: DataFrame is highly fragmented.  This is usually the result of calling `frame.insert` many times, which has poor performance.  Consider joining all columns at once using pd.concat(axis=1) instead. To get a de-fragmented frame, use `newframe = frame.copy()`\n",
      "  df[rapero] = aux\n",
      "C:\\Users\\icarl\\AppData\\Local\\Temp\\ipykernel_12196\\769801780.py:10: PerformanceWarning: DataFrame is highly fragmented.  This is usually the result of calling `frame.insert` many times, which has poor performance.  Consider joining all columns at once using pd.concat(axis=1) instead. To get a de-fragmented frame, use `newframe = frame.copy()`\n",
      "  df[rapero] = aux\n",
      "C:\\Users\\icarl\\AppData\\Local\\Temp\\ipykernel_12196\\769801780.py:10: PerformanceWarning: DataFrame is highly fragmented.  This is usually the result of calling `frame.insert` many times, which has poor performance.  Consider joining all columns at once using pd.concat(axis=1) instead. To get a de-fragmented frame, use `newframe = frame.copy()`\n",
      "  df[rapero] = aux\n",
      "C:\\Users\\icarl\\AppData\\Local\\Temp\\ipykernel_12196\\769801780.py:10: PerformanceWarning: DataFrame is highly fragmented.  This is usually the result of calling `frame.insert` many times, which has poor performance.  Consider joining all columns at once using pd.concat(axis=1) instead. To get a de-fragmented frame, use `newframe = frame.copy()`\n",
      "  df[rapero] = aux\n",
      "C:\\Users\\icarl\\AppData\\Local\\Temp\\ipykernel_12196\\769801780.py:10: PerformanceWarning: DataFrame is highly fragmented.  This is usually the result of calling `frame.insert` many times, which has poor performance.  Consider joining all columns at once using pd.concat(axis=1) instead. To get a de-fragmented frame, use `newframe = frame.copy()`\n",
      "  df[rapero] = aux\n",
      "C:\\Users\\icarl\\AppData\\Local\\Temp\\ipykernel_12196\\769801780.py:10: PerformanceWarning: DataFrame is highly fragmented.  This is usually the result of calling `frame.insert` many times, which has poor performance.  Consider joining all columns at once using pd.concat(axis=1) instead. To get a de-fragmented frame, use `newframe = frame.copy()`\n",
      "  df[rapero] = aux\n",
      "C:\\Users\\icarl\\AppData\\Local\\Temp\\ipykernel_12196\\769801780.py:10: PerformanceWarning: DataFrame is highly fragmented.  This is usually the result of calling `frame.insert` many times, which has poor performance.  Consider joining all columns at once using pd.concat(axis=1) instead. To get a de-fragmented frame, use `newframe = frame.copy()`\n",
      "  df[rapero] = aux\n",
      "C:\\Users\\icarl\\AppData\\Local\\Temp\\ipykernel_12196\\769801780.py:10: PerformanceWarning: DataFrame is highly fragmented.  This is usually the result of calling `frame.insert` many times, which has poor performance.  Consider joining all columns at once using pd.concat(axis=1) instead. To get a de-fragmented frame, use `newframe = frame.copy()`\n",
      "  df[rapero] = aux\n",
      "C:\\Users\\icarl\\AppData\\Local\\Temp\\ipykernel_12196\\769801780.py:10: PerformanceWarning: DataFrame is highly fragmented.  This is usually the result of calling `frame.insert` many times, which has poor performance.  Consider joining all columns at once using pd.concat(axis=1) instead. To get a de-fragmented frame, use `newframe = frame.copy()`\n",
      "  df[rapero] = aux\n",
      "C:\\Users\\icarl\\AppData\\Local\\Temp\\ipykernel_12196\\769801780.py:10: PerformanceWarning: DataFrame is highly fragmented.  This is usually the result of calling `frame.insert` many times, which has poor performance.  Consider joining all columns at once using pd.concat(axis=1) instead. To get a de-fragmented frame, use `newframe = frame.copy()`\n",
      "  df[rapero] = aux\n",
      "C:\\Users\\icarl\\AppData\\Local\\Temp\\ipykernel_12196\\769801780.py:10: PerformanceWarning: DataFrame is highly fragmented.  This is usually the result of calling `frame.insert` many times, which has poor performance.  Consider joining all columns at once using pd.concat(axis=1) instead. To get a de-fragmented frame, use `newframe = frame.copy()`\n",
      "  df[rapero] = aux\n",
      "C:\\Users\\icarl\\AppData\\Local\\Temp\\ipykernel_12196\\769801780.py:10: PerformanceWarning: DataFrame is highly fragmented.  This is usually the result of calling `frame.insert` many times, which has poor performance.  Consider joining all columns at once using pd.concat(axis=1) instead. To get a de-fragmented frame, use `newframe = frame.copy()`\n",
      "  df[rapero] = aux\n",
      "C:\\Users\\icarl\\AppData\\Local\\Temp\\ipykernel_12196\\769801780.py:10: PerformanceWarning: DataFrame is highly fragmented.  This is usually the result of calling `frame.insert` many times, which has poor performance.  Consider joining all columns at once using pd.concat(axis=1) instead. To get a de-fragmented frame, use `newframe = frame.copy()`\n",
      "  df[rapero] = aux\n",
      "C:\\Users\\icarl\\AppData\\Local\\Temp\\ipykernel_12196\\769801780.py:10: PerformanceWarning: DataFrame is highly fragmented.  This is usually the result of calling `frame.insert` many times, which has poor performance.  Consider joining all columns at once using pd.concat(axis=1) instead. To get a de-fragmented frame, use `newframe = frame.copy()`\n",
      "  df[rapero] = aux\n",
      "C:\\Users\\icarl\\AppData\\Local\\Temp\\ipykernel_12196\\769801780.py:10: PerformanceWarning: DataFrame is highly fragmented.  This is usually the result of calling `frame.insert` many times, which has poor performance.  Consider joining all columns at once using pd.concat(axis=1) instead. To get a de-fragmented frame, use `newframe = frame.copy()`\n",
      "  df[rapero] = aux\n",
      "C:\\Users\\icarl\\AppData\\Local\\Temp\\ipykernel_12196\\769801780.py:10: PerformanceWarning: DataFrame is highly fragmented.  This is usually the result of calling `frame.insert` many times, which has poor performance.  Consider joining all columns at once using pd.concat(axis=1) instead. To get a de-fragmented frame, use `newframe = frame.copy()`\n",
      "  df[rapero] = aux\n",
      "C:\\Users\\icarl\\AppData\\Local\\Temp\\ipykernel_12196\\769801780.py:10: PerformanceWarning: DataFrame is highly fragmented.  This is usually the result of calling `frame.insert` many times, which has poor performance.  Consider joining all columns at once using pd.concat(axis=1) instead. To get a de-fragmented frame, use `newframe = frame.copy()`\n",
      "  df[rapero] = aux\n",
      "C:\\Users\\icarl\\AppData\\Local\\Temp\\ipykernel_12196\\769801780.py:10: PerformanceWarning: DataFrame is highly fragmented.  This is usually the result of calling `frame.insert` many times, which has poor performance.  Consider joining all columns at once using pd.concat(axis=1) instead. To get a de-fragmented frame, use `newframe = frame.copy()`\n",
      "  df[rapero] = aux\n",
      "C:\\Users\\icarl\\AppData\\Local\\Temp\\ipykernel_12196\\769801780.py:10: PerformanceWarning: DataFrame is highly fragmented.  This is usually the result of calling `frame.insert` many times, which has poor performance.  Consider joining all columns at once using pd.concat(axis=1) instead. To get a de-fragmented frame, use `newframe = frame.copy()`\n",
      "  df[rapero] = aux\n",
      "C:\\Users\\icarl\\AppData\\Local\\Temp\\ipykernel_12196\\769801780.py:10: PerformanceWarning: DataFrame is highly fragmented.  This is usually the result of calling `frame.insert` many times, which has poor performance.  Consider joining all columns at once using pd.concat(axis=1) instead. To get a de-fragmented frame, use `newframe = frame.copy()`\n",
      "  df[rapero] = aux\n",
      "C:\\Users\\icarl\\AppData\\Local\\Temp\\ipykernel_12196\\769801780.py:10: PerformanceWarning: DataFrame is highly fragmented.  This is usually the result of calling `frame.insert` many times, which has poor performance.  Consider joining all columns at once using pd.concat(axis=1) instead. To get a de-fragmented frame, use `newframe = frame.copy()`\n",
      "  df[rapero] = aux\n",
      "C:\\Users\\icarl\\AppData\\Local\\Temp\\ipykernel_12196\\769801780.py:10: PerformanceWarning: DataFrame is highly fragmented.  This is usually the result of calling `frame.insert` many times, which has poor performance.  Consider joining all columns at once using pd.concat(axis=1) instead. To get a de-fragmented frame, use `newframe = frame.copy()`\n",
      "  df[rapero] = aux\n",
      "C:\\Users\\icarl\\AppData\\Local\\Temp\\ipykernel_12196\\769801780.py:10: PerformanceWarning: DataFrame is highly fragmented.  This is usually the result of calling `frame.insert` many times, which has poor performance.  Consider joining all columns at once using pd.concat(axis=1) instead. To get a de-fragmented frame, use `newframe = frame.copy()`\n",
      "  df[rapero] = aux\n",
      "C:\\Users\\icarl\\AppData\\Local\\Temp\\ipykernel_12196\\769801780.py:10: PerformanceWarning: DataFrame is highly fragmented.  This is usually the result of calling `frame.insert` many times, which has poor performance.  Consider joining all columns at once using pd.concat(axis=1) instead. To get a de-fragmented frame, use `newframe = frame.copy()`\n",
      "  df[rapero] = aux\n",
      "C:\\Users\\icarl\\AppData\\Local\\Temp\\ipykernel_12196\\769801780.py:10: PerformanceWarning: DataFrame is highly fragmented.  This is usually the result of calling `frame.insert` many times, which has poor performance.  Consider joining all columns at once using pd.concat(axis=1) instead. To get a de-fragmented frame, use `newframe = frame.copy()`\n",
      "  df[rapero] = aux\n",
      "C:\\Users\\icarl\\AppData\\Local\\Temp\\ipykernel_12196\\769801780.py:10: PerformanceWarning: DataFrame is highly fragmented.  This is usually the result of calling `frame.insert` many times, which has poor performance.  Consider joining all columns at once using pd.concat(axis=1) instead. To get a de-fragmented frame, use `newframe = frame.copy()`\n",
      "  df[rapero] = aux\n",
      "C:\\Users\\icarl\\AppData\\Local\\Temp\\ipykernel_12196\\769801780.py:10: PerformanceWarning: DataFrame is highly fragmented.  This is usually the result of calling `frame.insert` many times, which has poor performance.  Consider joining all columns at once using pd.concat(axis=1) instead. To get a de-fragmented frame, use `newframe = frame.copy()`\n",
      "  df[rapero] = aux\n",
      "C:\\Users\\icarl\\AppData\\Local\\Temp\\ipykernel_12196\\769801780.py:10: PerformanceWarning: DataFrame is highly fragmented.  This is usually the result of calling `frame.insert` many times, which has poor performance.  Consider joining all columns at once using pd.concat(axis=1) instead. To get a de-fragmented frame, use `newframe = frame.copy()`\n",
      "  df[rapero] = aux\n",
      "C:\\Users\\icarl\\AppData\\Local\\Temp\\ipykernel_12196\\769801780.py:10: PerformanceWarning: DataFrame is highly fragmented.  This is usually the result of calling `frame.insert` many times, which has poor performance.  Consider joining all columns at once using pd.concat(axis=1) instead. To get a de-fragmented frame, use `newframe = frame.copy()`\n",
      "  df[rapero] = aux\n",
      "C:\\Users\\icarl\\AppData\\Local\\Temp\\ipykernel_12196\\769801780.py:10: PerformanceWarning: DataFrame is highly fragmented.  This is usually the result of calling `frame.insert` many times, which has poor performance.  Consider joining all columns at once using pd.concat(axis=1) instead. To get a de-fragmented frame, use `newframe = frame.copy()`\n",
      "  df[rapero] = aux\n",
      "C:\\Users\\icarl\\AppData\\Local\\Temp\\ipykernel_12196\\769801780.py:10: PerformanceWarning: DataFrame is highly fragmented.  This is usually the result of calling `frame.insert` many times, which has poor performance.  Consider joining all columns at once using pd.concat(axis=1) instead. To get a de-fragmented frame, use `newframe = frame.copy()`\n",
      "  df[rapero] = aux\n"
     ]
    },
    {
     "name": "stderr",
     "output_type": "stream",
     "text": [
      "C:\\Users\\icarl\\AppData\\Local\\Temp\\ipykernel_12196\\769801780.py:10: PerformanceWarning: DataFrame is highly fragmented.  This is usually the result of calling `frame.insert` many times, which has poor performance.  Consider joining all columns at once using pd.concat(axis=1) instead. To get a de-fragmented frame, use `newframe = frame.copy()`\n",
      "  df[rapero] = aux\n",
      "C:\\Users\\icarl\\AppData\\Local\\Temp\\ipykernel_12196\\769801780.py:10: PerformanceWarning: DataFrame is highly fragmented.  This is usually the result of calling `frame.insert` many times, which has poor performance.  Consider joining all columns at once using pd.concat(axis=1) instead. To get a de-fragmented frame, use `newframe = frame.copy()`\n",
      "  df[rapero] = aux\n",
      "C:\\Users\\icarl\\AppData\\Local\\Temp\\ipykernel_12196\\769801780.py:10: PerformanceWarning: DataFrame is highly fragmented.  This is usually the result of calling `frame.insert` many times, which has poor performance.  Consider joining all columns at once using pd.concat(axis=1) instead. To get a de-fragmented frame, use `newframe = frame.copy()`\n",
      "  df[rapero] = aux\n",
      "C:\\Users\\icarl\\AppData\\Local\\Temp\\ipykernel_12196\\769801780.py:10: PerformanceWarning: DataFrame is highly fragmented.  This is usually the result of calling `frame.insert` many times, which has poor performance.  Consider joining all columns at once using pd.concat(axis=1) instead. To get a de-fragmented frame, use `newframe = frame.copy()`\n",
      "  df[rapero] = aux\n",
      "C:\\Users\\icarl\\AppData\\Local\\Temp\\ipykernel_12196\\769801780.py:10: PerformanceWarning: DataFrame is highly fragmented.  This is usually the result of calling `frame.insert` many times, which has poor performance.  Consider joining all columns at once using pd.concat(axis=1) instead. To get a de-fragmented frame, use `newframe = frame.copy()`\n",
      "  df[rapero] = aux\n",
      "C:\\Users\\icarl\\AppData\\Local\\Temp\\ipykernel_12196\\769801780.py:10: PerformanceWarning: DataFrame is highly fragmented.  This is usually the result of calling `frame.insert` many times, which has poor performance.  Consider joining all columns at once using pd.concat(axis=1) instead. To get a de-fragmented frame, use `newframe = frame.copy()`\n",
      "  df[rapero] = aux\n",
      "C:\\Users\\icarl\\AppData\\Local\\Temp\\ipykernel_12196\\769801780.py:10: PerformanceWarning: DataFrame is highly fragmented.  This is usually the result of calling `frame.insert` many times, which has poor performance.  Consider joining all columns at once using pd.concat(axis=1) instead. To get a de-fragmented frame, use `newframe = frame.copy()`\n",
      "  df[rapero] = aux\n",
      "C:\\Users\\icarl\\AppData\\Local\\Temp\\ipykernel_12196\\769801780.py:10: PerformanceWarning: DataFrame is highly fragmented.  This is usually the result of calling `frame.insert` many times, which has poor performance.  Consider joining all columns at once using pd.concat(axis=1) instead. To get a de-fragmented frame, use `newframe = frame.copy()`\n",
      "  df[rapero] = aux\n",
      "C:\\Users\\icarl\\AppData\\Local\\Temp\\ipykernel_12196\\769801780.py:10: PerformanceWarning: DataFrame is highly fragmented.  This is usually the result of calling `frame.insert` many times, which has poor performance.  Consider joining all columns at once using pd.concat(axis=1) instead. To get a de-fragmented frame, use `newframe = frame.copy()`\n",
      "  df[rapero] = aux\n",
      "C:\\Users\\icarl\\AppData\\Local\\Temp\\ipykernel_12196\\769801780.py:10: PerformanceWarning: DataFrame is highly fragmented.  This is usually the result of calling `frame.insert` many times, which has poor performance.  Consider joining all columns at once using pd.concat(axis=1) instead. To get a de-fragmented frame, use `newframe = frame.copy()`\n",
      "  df[rapero] = aux\n",
      "C:\\Users\\icarl\\AppData\\Local\\Temp\\ipykernel_12196\\769801780.py:10: PerformanceWarning: DataFrame is highly fragmented.  This is usually the result of calling `frame.insert` many times, which has poor performance.  Consider joining all columns at once using pd.concat(axis=1) instead. To get a de-fragmented frame, use `newframe = frame.copy()`\n",
      "  df[rapero] = aux\n",
      "C:\\Users\\icarl\\AppData\\Local\\Temp\\ipykernel_12196\\769801780.py:10: PerformanceWarning: DataFrame is highly fragmented.  This is usually the result of calling `frame.insert` many times, which has poor performance.  Consider joining all columns at once using pd.concat(axis=1) instead. To get a de-fragmented frame, use `newframe = frame.copy()`\n",
      "  df[rapero] = aux\n",
      "C:\\Users\\icarl\\AppData\\Local\\Temp\\ipykernel_12196\\769801780.py:10: PerformanceWarning: DataFrame is highly fragmented.  This is usually the result of calling `frame.insert` many times, which has poor performance.  Consider joining all columns at once using pd.concat(axis=1) instead. To get a de-fragmented frame, use `newframe = frame.copy()`\n",
      "  df[rapero] = aux\n",
      "C:\\Users\\icarl\\AppData\\Local\\Temp\\ipykernel_12196\\769801780.py:10: PerformanceWarning: DataFrame is highly fragmented.  This is usually the result of calling `frame.insert` many times, which has poor performance.  Consider joining all columns at once using pd.concat(axis=1) instead. To get a de-fragmented frame, use `newframe = frame.copy()`\n",
      "  df[rapero] = aux\n",
      "C:\\Users\\icarl\\AppData\\Local\\Temp\\ipykernel_12196\\769801780.py:10: PerformanceWarning: DataFrame is highly fragmented.  This is usually the result of calling `frame.insert` many times, which has poor performance.  Consider joining all columns at once using pd.concat(axis=1) instead. To get a de-fragmented frame, use `newframe = frame.copy()`\n",
      "  df[rapero] = aux\n",
      "C:\\Users\\icarl\\AppData\\Local\\Temp\\ipykernel_12196\\769801780.py:10: PerformanceWarning: DataFrame is highly fragmented.  This is usually the result of calling `frame.insert` many times, which has poor performance.  Consider joining all columns at once using pd.concat(axis=1) instead. To get a de-fragmented frame, use `newframe = frame.copy()`\n",
      "  df[rapero] = aux\n",
      "C:\\Users\\icarl\\AppData\\Local\\Temp\\ipykernel_12196\\769801780.py:10: PerformanceWarning: DataFrame is highly fragmented.  This is usually the result of calling `frame.insert` many times, which has poor performance.  Consider joining all columns at once using pd.concat(axis=1) instead. To get a de-fragmented frame, use `newframe = frame.copy()`\n",
      "  df[rapero] = aux\n",
      "C:\\Users\\icarl\\AppData\\Local\\Temp\\ipykernel_12196\\769801780.py:10: PerformanceWarning: DataFrame is highly fragmented.  This is usually the result of calling `frame.insert` many times, which has poor performance.  Consider joining all columns at once using pd.concat(axis=1) instead. To get a de-fragmented frame, use `newframe = frame.copy()`\n",
      "  df[rapero] = aux\n",
      "C:\\Users\\icarl\\AppData\\Local\\Temp\\ipykernel_12196\\769801780.py:10: PerformanceWarning: DataFrame is highly fragmented.  This is usually the result of calling `frame.insert` many times, which has poor performance.  Consider joining all columns at once using pd.concat(axis=1) instead. To get a de-fragmented frame, use `newframe = frame.copy()`\n",
      "  df[rapero] = aux\n",
      "C:\\Users\\icarl\\AppData\\Local\\Temp\\ipykernel_12196\\769801780.py:10: PerformanceWarning: DataFrame is highly fragmented.  This is usually the result of calling `frame.insert` many times, which has poor performance.  Consider joining all columns at once using pd.concat(axis=1) instead. To get a de-fragmented frame, use `newframe = frame.copy()`\n",
      "  df[rapero] = aux\n",
      "C:\\Users\\icarl\\AppData\\Local\\Temp\\ipykernel_12196\\769801780.py:10: PerformanceWarning: DataFrame is highly fragmented.  This is usually the result of calling `frame.insert` many times, which has poor performance.  Consider joining all columns at once using pd.concat(axis=1) instead. To get a de-fragmented frame, use `newframe = frame.copy()`\n",
      "  df[rapero] = aux\n",
      "C:\\Users\\icarl\\AppData\\Local\\Temp\\ipykernel_12196\\769801780.py:10: PerformanceWarning: DataFrame is highly fragmented.  This is usually the result of calling `frame.insert` many times, which has poor performance.  Consider joining all columns at once using pd.concat(axis=1) instead. To get a de-fragmented frame, use `newframe = frame.copy()`\n",
      "  df[rapero] = aux\n",
      "C:\\Users\\icarl\\AppData\\Local\\Temp\\ipykernel_12196\\769801780.py:10: PerformanceWarning: DataFrame is highly fragmented.  This is usually the result of calling `frame.insert` many times, which has poor performance.  Consider joining all columns at once using pd.concat(axis=1) instead. To get a de-fragmented frame, use `newframe = frame.copy()`\n",
      "  df[rapero] = aux\n",
      "C:\\Users\\icarl\\AppData\\Local\\Temp\\ipykernel_12196\\769801780.py:10: PerformanceWarning: DataFrame is highly fragmented.  This is usually the result of calling `frame.insert` many times, which has poor performance.  Consider joining all columns at once using pd.concat(axis=1) instead. To get a de-fragmented frame, use `newframe = frame.copy()`\n",
      "  df[rapero] = aux\n"
     ]
    },
    {
     "name": "stderr",
     "output_type": "stream",
     "text": [
      "C:\\Users\\icarl\\AppData\\Local\\Temp\\ipykernel_12196\\769801780.py:10: PerformanceWarning: DataFrame is highly fragmented.  This is usually the result of calling `frame.insert` many times, which has poor performance.  Consider joining all columns at once using pd.concat(axis=1) instead. To get a de-fragmented frame, use `newframe = frame.copy()`\n",
      "  df[rapero] = aux\n",
      "C:\\Users\\icarl\\AppData\\Local\\Temp\\ipykernel_12196\\769801780.py:10: PerformanceWarning: DataFrame is highly fragmented.  This is usually the result of calling `frame.insert` many times, which has poor performance.  Consider joining all columns at once using pd.concat(axis=1) instead. To get a de-fragmented frame, use `newframe = frame.copy()`\n",
      "  df[rapero] = aux\n",
      "C:\\Users\\icarl\\AppData\\Local\\Temp\\ipykernel_12196\\769801780.py:10: PerformanceWarning: DataFrame is highly fragmented.  This is usually the result of calling `frame.insert` many times, which has poor performance.  Consider joining all columns at once using pd.concat(axis=1) instead. To get a de-fragmented frame, use `newframe = frame.copy()`\n",
      "  df[rapero] = aux\n",
      "C:\\Users\\icarl\\AppData\\Local\\Temp\\ipykernel_12196\\769801780.py:10: PerformanceWarning: DataFrame is highly fragmented.  This is usually the result of calling `frame.insert` many times, which has poor performance.  Consider joining all columns at once using pd.concat(axis=1) instead. To get a de-fragmented frame, use `newframe = frame.copy()`\n",
      "  df[rapero] = aux\n",
      "C:\\Users\\icarl\\AppData\\Local\\Temp\\ipykernel_12196\\769801780.py:10: PerformanceWarning: DataFrame is highly fragmented.  This is usually the result of calling `frame.insert` many times, which has poor performance.  Consider joining all columns at once using pd.concat(axis=1) instead. To get a de-fragmented frame, use `newframe = frame.copy()`\n",
      "  df[rapero] = aux\n",
      "C:\\Users\\icarl\\AppData\\Local\\Temp\\ipykernel_12196\\769801780.py:10: PerformanceWarning: DataFrame is highly fragmented.  This is usually the result of calling `frame.insert` many times, which has poor performance.  Consider joining all columns at once using pd.concat(axis=1) instead. To get a de-fragmented frame, use `newframe = frame.copy()`\n",
      "  df[rapero] = aux\n",
      "C:\\Users\\icarl\\AppData\\Local\\Temp\\ipykernel_12196\\769801780.py:10: PerformanceWarning: DataFrame is highly fragmented.  This is usually the result of calling `frame.insert` many times, which has poor performance.  Consider joining all columns at once using pd.concat(axis=1) instead. To get a de-fragmented frame, use `newframe = frame.copy()`\n",
      "  df[rapero] = aux\n",
      "C:\\Users\\icarl\\AppData\\Local\\Temp\\ipykernel_12196\\769801780.py:10: PerformanceWarning: DataFrame is highly fragmented.  This is usually the result of calling `frame.insert` many times, which has poor performance.  Consider joining all columns at once using pd.concat(axis=1) instead. To get a de-fragmented frame, use `newframe = frame.copy()`\n",
      "  df[rapero] = aux\n",
      "C:\\Users\\icarl\\AppData\\Local\\Temp\\ipykernel_12196\\769801780.py:10: PerformanceWarning: DataFrame is highly fragmented.  This is usually the result of calling `frame.insert` many times, which has poor performance.  Consider joining all columns at once using pd.concat(axis=1) instead. To get a de-fragmented frame, use `newframe = frame.copy()`\n",
      "  df[rapero] = aux\n",
      "C:\\Users\\icarl\\AppData\\Local\\Temp\\ipykernel_12196\\769801780.py:10: PerformanceWarning: DataFrame is highly fragmented.  This is usually the result of calling `frame.insert` many times, which has poor performance.  Consider joining all columns at once using pd.concat(axis=1) instead. To get a de-fragmented frame, use `newframe = frame.copy()`\n",
      "  df[rapero] = aux\n",
      "C:\\Users\\icarl\\AppData\\Local\\Temp\\ipykernel_12196\\769801780.py:10: PerformanceWarning: DataFrame is highly fragmented.  This is usually the result of calling `frame.insert` many times, which has poor performance.  Consider joining all columns at once using pd.concat(axis=1) instead. To get a de-fragmented frame, use `newframe = frame.copy()`\n",
      "  df[rapero] = aux\n",
      "C:\\Users\\icarl\\AppData\\Local\\Temp\\ipykernel_12196\\769801780.py:10: PerformanceWarning: DataFrame is highly fragmented.  This is usually the result of calling `frame.insert` many times, which has poor performance.  Consider joining all columns at once using pd.concat(axis=1) instead. To get a de-fragmented frame, use `newframe = frame.copy()`\n",
      "  df[rapero] = aux\n",
      "C:\\Users\\icarl\\AppData\\Local\\Temp\\ipykernel_12196\\769801780.py:10: PerformanceWarning: DataFrame is highly fragmented.  This is usually the result of calling `frame.insert` many times, which has poor performance.  Consider joining all columns at once using pd.concat(axis=1) instead. To get a de-fragmented frame, use `newframe = frame.copy()`\n",
      "  df[rapero] = aux\n",
      "C:\\Users\\icarl\\AppData\\Local\\Temp\\ipykernel_12196\\769801780.py:10: PerformanceWarning: DataFrame is highly fragmented.  This is usually the result of calling `frame.insert` many times, which has poor performance.  Consider joining all columns at once using pd.concat(axis=1) instead. To get a de-fragmented frame, use `newframe = frame.copy()`\n",
      "  df[rapero] = aux\n",
      "C:\\Users\\icarl\\AppData\\Local\\Temp\\ipykernel_12196\\769801780.py:10: PerformanceWarning: DataFrame is highly fragmented.  This is usually the result of calling `frame.insert` many times, which has poor performance.  Consider joining all columns at once using pd.concat(axis=1) instead. To get a de-fragmented frame, use `newframe = frame.copy()`\n",
      "  df[rapero] = aux\n",
      "C:\\Users\\icarl\\AppData\\Local\\Temp\\ipykernel_12196\\769801780.py:10: PerformanceWarning: DataFrame is highly fragmented.  This is usually the result of calling `frame.insert` many times, which has poor performance.  Consider joining all columns at once using pd.concat(axis=1) instead. To get a de-fragmented frame, use `newframe = frame.copy()`\n",
      "  df[rapero] = aux\n",
      "C:\\Users\\icarl\\AppData\\Local\\Temp\\ipykernel_12196\\769801780.py:10: PerformanceWarning: DataFrame is highly fragmented.  This is usually the result of calling `frame.insert` many times, which has poor performance.  Consider joining all columns at once using pd.concat(axis=1) instead. To get a de-fragmented frame, use `newframe = frame.copy()`\n",
      "  df[rapero] = aux\n",
      "C:\\Users\\icarl\\AppData\\Local\\Temp\\ipykernel_12196\\769801780.py:10: PerformanceWarning: DataFrame is highly fragmented.  This is usually the result of calling `frame.insert` many times, which has poor performance.  Consider joining all columns at once using pd.concat(axis=1) instead. To get a de-fragmented frame, use `newframe = frame.copy()`\n",
      "  df[rapero] = aux\n",
      "C:\\Users\\icarl\\AppData\\Local\\Temp\\ipykernel_12196\\769801780.py:10: PerformanceWarning: DataFrame is highly fragmented.  This is usually the result of calling `frame.insert` many times, which has poor performance.  Consider joining all columns at once using pd.concat(axis=1) instead. To get a de-fragmented frame, use `newframe = frame.copy()`\n",
      "  df[rapero] = aux\n",
      "C:\\Users\\icarl\\AppData\\Local\\Temp\\ipykernel_12196\\769801780.py:10: PerformanceWarning: DataFrame is highly fragmented.  This is usually the result of calling `frame.insert` many times, which has poor performance.  Consider joining all columns at once using pd.concat(axis=1) instead. To get a de-fragmented frame, use `newframe = frame.copy()`\n",
      "  df[rapero] = aux\n",
      "C:\\Users\\icarl\\AppData\\Local\\Temp\\ipykernel_12196\\769801780.py:10: PerformanceWarning: DataFrame is highly fragmented.  This is usually the result of calling `frame.insert` many times, which has poor performance.  Consider joining all columns at once using pd.concat(axis=1) instead. To get a de-fragmented frame, use `newframe = frame.copy()`\n",
      "  df[rapero] = aux\n",
      "C:\\Users\\icarl\\AppData\\Local\\Temp\\ipykernel_12196\\769801780.py:10: PerformanceWarning: DataFrame is highly fragmented.  This is usually the result of calling `frame.insert` many times, which has poor performance.  Consider joining all columns at once using pd.concat(axis=1) instead. To get a de-fragmented frame, use `newframe = frame.copy()`\n",
      "  df[rapero] = aux\n",
      "C:\\Users\\icarl\\AppData\\Local\\Temp\\ipykernel_12196\\769801780.py:10: PerformanceWarning: DataFrame is highly fragmented.  This is usually the result of calling `frame.insert` many times, which has poor performance.  Consider joining all columns at once using pd.concat(axis=1) instead. To get a de-fragmented frame, use `newframe = frame.copy()`\n",
      "  df[rapero] = aux\n",
      "C:\\Users\\icarl\\AppData\\Local\\Temp\\ipykernel_12196\\769801780.py:10: PerformanceWarning: DataFrame is highly fragmented.  This is usually the result of calling `frame.insert` many times, which has poor performance.  Consider joining all columns at once using pd.concat(axis=1) instead. To get a de-fragmented frame, use `newframe = frame.copy()`\n",
      "  df[rapero] = aux\n",
      "C:\\Users\\icarl\\AppData\\Local\\Temp\\ipykernel_12196\\769801780.py:10: PerformanceWarning: DataFrame is highly fragmented.  This is usually the result of calling `frame.insert` many times, which has poor performance.  Consider joining all columns at once using pd.concat(axis=1) instead. To get a de-fragmented frame, use `newframe = frame.copy()`\n",
      "  df[rapero] = aux\n",
      "C:\\Users\\icarl\\AppData\\Local\\Temp\\ipykernel_12196\\769801780.py:10: PerformanceWarning: DataFrame is highly fragmented.  This is usually the result of calling `frame.insert` many times, which has poor performance.  Consider joining all columns at once using pd.concat(axis=1) instead. To get a de-fragmented frame, use `newframe = frame.copy()`\n",
      "  df[rapero] = aux\n",
      "C:\\Users\\icarl\\AppData\\Local\\Temp\\ipykernel_12196\\769801780.py:10: PerformanceWarning: DataFrame is highly fragmented.  This is usually the result of calling `frame.insert` many times, which has poor performance.  Consider joining all columns at once using pd.concat(axis=1) instead. To get a de-fragmented frame, use `newframe = frame.copy()`\n",
      "  df[rapero] = aux\n",
      "C:\\Users\\icarl\\AppData\\Local\\Temp\\ipykernel_12196\\769801780.py:10: PerformanceWarning: DataFrame is highly fragmented.  This is usually the result of calling `frame.insert` many times, which has poor performance.  Consider joining all columns at once using pd.concat(axis=1) instead. To get a de-fragmented frame, use `newframe = frame.copy()`\n",
      "  df[rapero] = aux\n",
      "C:\\Users\\icarl\\AppData\\Local\\Temp\\ipykernel_12196\\769801780.py:10: PerformanceWarning: DataFrame is highly fragmented.  This is usually the result of calling `frame.insert` many times, which has poor performance.  Consider joining all columns at once using pd.concat(axis=1) instead. To get a de-fragmented frame, use `newframe = frame.copy()`\n",
      "  df[rapero] = aux\n",
      "C:\\Users\\icarl\\AppData\\Local\\Temp\\ipykernel_12196\\769801780.py:10: PerformanceWarning: DataFrame is highly fragmented.  This is usually the result of calling `frame.insert` many times, which has poor performance.  Consider joining all columns at once using pd.concat(axis=1) instead. To get a de-fragmented frame, use `newframe = frame.copy()`\n",
      "  df[rapero] = aux\n",
      "C:\\Users\\icarl\\AppData\\Local\\Temp\\ipykernel_12196\\769801780.py:10: PerformanceWarning: DataFrame is highly fragmented.  This is usually the result of calling `frame.insert` many times, which has poor performance.  Consider joining all columns at once using pd.concat(axis=1) instead. To get a de-fragmented frame, use `newframe = frame.copy()`\n",
      "  df[rapero] = aux\n",
      "C:\\Users\\icarl\\AppData\\Local\\Temp\\ipykernel_12196\\769801780.py:10: PerformanceWarning: DataFrame is highly fragmented.  This is usually the result of calling `frame.insert` many times, which has poor performance.  Consider joining all columns at once using pd.concat(axis=1) instead. To get a de-fragmented frame, use `newframe = frame.copy()`\n",
      "  df[rapero] = aux\n",
      "C:\\Users\\icarl\\AppData\\Local\\Temp\\ipykernel_12196\\769801780.py:10: PerformanceWarning: DataFrame is highly fragmented.  This is usually the result of calling `frame.insert` many times, which has poor performance.  Consider joining all columns at once using pd.concat(axis=1) instead. To get a de-fragmented frame, use `newframe = frame.copy()`\n",
      "  df[rapero] = aux\n",
      "C:\\Users\\icarl\\AppData\\Local\\Temp\\ipykernel_12196\\769801780.py:10: PerformanceWarning: DataFrame is highly fragmented.  This is usually the result of calling `frame.insert` many times, which has poor performance.  Consider joining all columns at once using pd.concat(axis=1) instead. To get a de-fragmented frame, use `newframe = frame.copy()`\n",
      "  df[rapero] = aux\n",
      "C:\\Users\\icarl\\AppData\\Local\\Temp\\ipykernel_12196\\769801780.py:10: PerformanceWarning: DataFrame is highly fragmented.  This is usually the result of calling `frame.insert` many times, which has poor performance.  Consider joining all columns at once using pd.concat(axis=1) instead. To get a de-fragmented frame, use `newframe = frame.copy()`\n",
      "  df[rapero] = aux\n",
      "C:\\Users\\icarl\\AppData\\Local\\Temp\\ipykernel_12196\\769801780.py:10: PerformanceWarning: DataFrame is highly fragmented.  This is usually the result of calling `frame.insert` many times, which has poor performance.  Consider joining all columns at once using pd.concat(axis=1) instead. To get a de-fragmented frame, use `newframe = frame.copy()`\n",
      "  df[rapero] = aux\n",
      "C:\\Users\\icarl\\AppData\\Local\\Temp\\ipykernel_12196\\769801780.py:10: PerformanceWarning: DataFrame is highly fragmented.  This is usually the result of calling `frame.insert` many times, which has poor performance.  Consider joining all columns at once using pd.concat(axis=1) instead. To get a de-fragmented frame, use `newframe = frame.copy()`\n",
      "  df[rapero] = aux\n"
     ]
    },
    {
     "name": "stderr",
     "output_type": "stream",
     "text": [
      "C:\\Users\\icarl\\AppData\\Local\\Temp\\ipykernel_12196\\769801780.py:10: PerformanceWarning: DataFrame is highly fragmented.  This is usually the result of calling `frame.insert` many times, which has poor performance.  Consider joining all columns at once using pd.concat(axis=1) instead. To get a de-fragmented frame, use `newframe = frame.copy()`\n",
      "  df[rapero] = aux\n",
      "C:\\Users\\icarl\\AppData\\Local\\Temp\\ipykernel_12196\\769801780.py:10: PerformanceWarning: DataFrame is highly fragmented.  This is usually the result of calling `frame.insert` many times, which has poor performance.  Consider joining all columns at once using pd.concat(axis=1) instead. To get a de-fragmented frame, use `newframe = frame.copy()`\n",
      "  df[rapero] = aux\n",
      "C:\\Users\\icarl\\AppData\\Local\\Temp\\ipykernel_12196\\769801780.py:10: PerformanceWarning: DataFrame is highly fragmented.  This is usually the result of calling `frame.insert` many times, which has poor performance.  Consider joining all columns at once using pd.concat(axis=1) instead. To get a de-fragmented frame, use `newframe = frame.copy()`\n",
      "  df[rapero] = aux\n",
      "C:\\Users\\icarl\\AppData\\Local\\Temp\\ipykernel_12196\\769801780.py:10: PerformanceWarning: DataFrame is highly fragmented.  This is usually the result of calling `frame.insert` many times, which has poor performance.  Consider joining all columns at once using pd.concat(axis=1) instead. To get a de-fragmented frame, use `newframe = frame.copy()`\n",
      "  df[rapero] = aux\n",
      "C:\\Users\\icarl\\AppData\\Local\\Temp\\ipykernel_12196\\769801780.py:10: PerformanceWarning: DataFrame is highly fragmented.  This is usually the result of calling `frame.insert` many times, which has poor performance.  Consider joining all columns at once using pd.concat(axis=1) instead. To get a de-fragmented frame, use `newframe = frame.copy()`\n",
      "  df[rapero] = aux\n",
      "C:\\Users\\icarl\\AppData\\Local\\Temp\\ipykernel_12196\\769801780.py:10: PerformanceWarning: DataFrame is highly fragmented.  This is usually the result of calling `frame.insert` many times, which has poor performance.  Consider joining all columns at once using pd.concat(axis=1) instead. To get a de-fragmented frame, use `newframe = frame.copy()`\n",
      "  df[rapero] = aux\n",
      "C:\\Users\\icarl\\AppData\\Local\\Temp\\ipykernel_12196\\769801780.py:10: PerformanceWarning: DataFrame is highly fragmented.  This is usually the result of calling `frame.insert` many times, which has poor performance.  Consider joining all columns at once using pd.concat(axis=1) instead. To get a de-fragmented frame, use `newframe = frame.copy()`\n",
      "  df[rapero] = aux\n",
      "C:\\Users\\icarl\\AppData\\Local\\Temp\\ipykernel_12196\\769801780.py:10: PerformanceWarning: DataFrame is highly fragmented.  This is usually the result of calling `frame.insert` many times, which has poor performance.  Consider joining all columns at once using pd.concat(axis=1) instead. To get a de-fragmented frame, use `newframe = frame.copy()`\n",
      "  df[rapero] = aux\n",
      "C:\\Users\\icarl\\AppData\\Local\\Temp\\ipykernel_12196\\769801780.py:10: PerformanceWarning: DataFrame is highly fragmented.  This is usually the result of calling `frame.insert` many times, which has poor performance.  Consider joining all columns at once using pd.concat(axis=1) instead. To get a de-fragmented frame, use `newframe = frame.copy()`\n",
      "  df[rapero] = aux\n",
      "C:\\Users\\icarl\\AppData\\Local\\Temp\\ipykernel_12196\\769801780.py:10: PerformanceWarning: DataFrame is highly fragmented.  This is usually the result of calling `frame.insert` many times, which has poor performance.  Consider joining all columns at once using pd.concat(axis=1) instead. To get a de-fragmented frame, use `newframe = frame.copy()`\n",
      "  df[rapero] = aux\n",
      "C:\\Users\\icarl\\AppData\\Local\\Temp\\ipykernel_12196\\769801780.py:10: PerformanceWarning: DataFrame is highly fragmented.  This is usually the result of calling `frame.insert` many times, which has poor performance.  Consider joining all columns at once using pd.concat(axis=1) instead. To get a de-fragmented frame, use `newframe = frame.copy()`\n",
      "  df[rapero] = aux\n",
      "C:\\Users\\icarl\\AppData\\Local\\Temp\\ipykernel_12196\\769801780.py:10: PerformanceWarning: DataFrame is highly fragmented.  This is usually the result of calling `frame.insert` many times, which has poor performance.  Consider joining all columns at once using pd.concat(axis=1) instead. To get a de-fragmented frame, use `newframe = frame.copy()`\n",
      "  df[rapero] = aux\n",
      "C:\\Users\\icarl\\AppData\\Local\\Temp\\ipykernel_12196\\769801780.py:10: PerformanceWarning: DataFrame is highly fragmented.  This is usually the result of calling `frame.insert` many times, which has poor performance.  Consider joining all columns at once using pd.concat(axis=1) instead. To get a de-fragmented frame, use `newframe = frame.copy()`\n",
      "  df[rapero] = aux\n",
      "C:\\Users\\icarl\\AppData\\Local\\Temp\\ipykernel_12196\\769801780.py:10: PerformanceWarning: DataFrame is highly fragmented.  This is usually the result of calling `frame.insert` many times, which has poor performance.  Consider joining all columns at once using pd.concat(axis=1) instead. To get a de-fragmented frame, use `newframe = frame.copy()`\n",
      "  df[rapero] = aux\n",
      "C:\\Users\\icarl\\AppData\\Local\\Temp\\ipykernel_12196\\769801780.py:10: PerformanceWarning: DataFrame is highly fragmented.  This is usually the result of calling `frame.insert` many times, which has poor performance.  Consider joining all columns at once using pd.concat(axis=1) instead. To get a de-fragmented frame, use `newframe = frame.copy()`\n",
      "  df[rapero] = aux\n",
      "C:\\Users\\icarl\\AppData\\Local\\Temp\\ipykernel_12196\\769801780.py:10: PerformanceWarning: DataFrame is highly fragmented.  This is usually the result of calling `frame.insert` many times, which has poor performance.  Consider joining all columns at once using pd.concat(axis=1) instead. To get a de-fragmented frame, use `newframe = frame.copy()`\n",
      "  df[rapero] = aux\n",
      "C:\\Users\\icarl\\AppData\\Local\\Temp\\ipykernel_12196\\769801780.py:10: PerformanceWarning: DataFrame is highly fragmented.  This is usually the result of calling `frame.insert` many times, which has poor performance.  Consider joining all columns at once using pd.concat(axis=1) instead. To get a de-fragmented frame, use `newframe = frame.copy()`\n",
      "  df[rapero] = aux\n",
      "C:\\Users\\icarl\\AppData\\Local\\Temp\\ipykernel_12196\\769801780.py:10: PerformanceWarning: DataFrame is highly fragmented.  This is usually the result of calling `frame.insert` many times, which has poor performance.  Consider joining all columns at once using pd.concat(axis=1) instead. To get a de-fragmented frame, use `newframe = frame.copy()`\n",
      "  df[rapero] = aux\n",
      "C:\\Users\\icarl\\AppData\\Local\\Temp\\ipykernel_12196\\769801780.py:10: PerformanceWarning: DataFrame is highly fragmented.  This is usually the result of calling `frame.insert` many times, which has poor performance.  Consider joining all columns at once using pd.concat(axis=1) instead. To get a de-fragmented frame, use `newframe = frame.copy()`\n",
      "  df[rapero] = aux\n",
      "C:\\Users\\icarl\\AppData\\Local\\Temp\\ipykernel_12196\\769801780.py:10: PerformanceWarning: DataFrame is highly fragmented.  This is usually the result of calling `frame.insert` many times, which has poor performance.  Consider joining all columns at once using pd.concat(axis=1) instead. To get a de-fragmented frame, use `newframe = frame.copy()`\n",
      "  df[rapero] = aux\n",
      "C:\\Users\\icarl\\AppData\\Local\\Temp\\ipykernel_12196\\769801780.py:10: PerformanceWarning: DataFrame is highly fragmented.  This is usually the result of calling `frame.insert` many times, which has poor performance.  Consider joining all columns at once using pd.concat(axis=1) instead. To get a de-fragmented frame, use `newframe = frame.copy()`\n",
      "  df[rapero] = aux\n"
     ]
    }
   ],
   "source": [
    "# Creation of the adjacency matrix\n",
    "\n",
    "for rapero in df['Name']:\n",
    "    aux = list()\n",
    "    for colabos in df['Colabos']:\n",
    "        if rapero in colabos:\n",
    "            aux.append(1)\n",
    "        else:\n",
    "            aux.append(0)\n",
    "    df[rapero] = aux"
   ]
  },
  {
   "cell_type": "code",
   "execution_count": 48,
   "id": "c988cca8",
   "metadata": {},
   "outputs": [],
   "source": [
    "# Cleanup of the new dataframe\n",
    "\n",
    "df.set_index('Name', inplace=True)"
   ]
  },
  {
   "cell_type": "code",
   "execution_count": 49,
   "id": "492f0873",
   "metadata": {},
   "outputs": [],
   "source": [
    "df.drop('Colabos', axis=1, inplace=True)"
   ]
  },
  {
   "cell_type": "code",
   "execution_count": 50,
   "id": "5a08e261",
   "metadata": {},
   "outputs": [],
   "source": [
    "# we export the Matrix to have it as an excel file\n",
    "\n",
    "df.to_csv(\"adjacency_matrix.csv\",index=True)"
   ]
  },
  {
   "cell_type": "code",
   "execution_count": 51,
   "id": "751b7067",
   "metadata": {},
   "outputs": [
    {
     "data": {
      "text/plain": [
       "(339, 339)"
      ]
     },
     "execution_count": 51,
     "metadata": {},
     "output_type": "execute_result"
    }
   ],
   "source": [
    "df.shape"
   ]
  },
  {
   "cell_type": "code",
   "execution_count": 52,
   "id": "fe6feee8",
   "metadata": {},
   "outputs": [
    {
     "data": {
      "text/plain": [
       "1736"
      ]
     },
     "execution_count": 52,
     "metadata": {},
     "output_type": "execute_result"
    }
   ],
   "source": [
    "df.sum().sum()"
   ]
  },
  {
   "cell_type": "code",
   "execution_count": 10,
   "id": "99539f0f",
   "metadata": {},
   "outputs": [],
   "source": [
    "# Creation of the adjacency_list\n",
    "\n",
    "adjacency_list = list()\n",
    "\n",
    "for i,column in enumerate(df.columns):\n",
    "    for j,fila in enumerate(df.index):\n",
    "        if df.at[fila,column] == 1:\n",
    "            listita = list()\n",
    "            listita.append(column)\n",
    "            listita.append(fila)\n",
    "            adjacency_list.append(listita)\n",
    "            "
   ]
  },
  {
   "cell_type": "code",
   "execution_count": 11,
   "id": "76c865b1",
   "metadata": {},
   "outputs": [],
   "source": [
    "adjacency_list_df = pd.DataFrame(adjacency_list,columns = ['start_node','end_node'])"
   ]
  },
  {
   "cell_type": "code",
   "execution_count": 58,
   "id": "72d69caa",
   "metadata": {},
   "outputs": [],
   "source": [
    "adjacency_list_df.to_csv(\"adjacency_list_noheader.csv\",index=False,header=False)\n"
   ]
  },
  {
   "cell_type": "code",
   "execution_count": 12,
   "id": "5f492216",
   "metadata": {},
   "outputs": [],
   "source": [
    "adjacency_list_df.to_csv(\"adjacency_list.csv\",index=False)"
   ]
  },
  {
   "cell_type": "code",
   "execution_count": 57,
   "id": "b338e337",
   "metadata": {},
   "outputs": [
    {
     "data": {
      "text/html": [
       "<div>\n",
       "<style scoped>\n",
       "    .dataframe tbody tr th:only-of-type {\n",
       "        vertical-align: middle;\n",
       "    }\n",
       "\n",
       "    .dataframe tbody tr th {\n",
       "        vertical-align: top;\n",
       "    }\n",
       "\n",
       "    .dataframe thead th {\n",
       "        text-align: right;\n",
       "    }\n",
       "</style>\n",
       "<table border=\"1\" class=\"dataframe\">\n",
       "  <thead>\n",
       "    <tr style=\"text-align: right;\">\n",
       "      <th></th>\n",
       "      <th>start_node</th>\n",
       "      <th>end_node</th>\n",
       "    </tr>\n",
       "  </thead>\n",
       "  <tbody>\n",
       "    <tr>\n",
       "      <th>0</th>\n",
       "      <td>Charles Ans</td>\n",
       "      <td>Nanpa Básico</td>\n",
       "    </tr>\n",
       "    <tr>\n",
       "      <th>1</th>\n",
       "      <td>Charles Ans</td>\n",
       "      <td>Rapsusklei</td>\n",
       "    </tr>\n",
       "    <tr>\n",
       "      <th>2</th>\n",
       "      <td>Charles Ans</td>\n",
       "      <td>BCN</td>\n",
       "    </tr>\n",
       "    <tr>\n",
       "      <th>3</th>\n",
       "      <td>Charles Ans</td>\n",
       "      <td>Neto Peña</td>\n",
       "    </tr>\n",
       "    <tr>\n",
       "      <th>4</th>\n",
       "      <td>Charles Ans</td>\n",
       "      <td>Gordo del Funk</td>\n",
       "    </tr>\n",
       "    <tr>\n",
       "      <th>...</th>\n",
       "      <td>...</td>\n",
       "      <td>...</td>\n",
       "    </tr>\n",
       "    <tr>\n",
       "      <th>1731</th>\n",
       "      <td>Def Con Dos</td>\n",
       "      <td>Sara Hebe</td>\n",
       "    </tr>\n",
       "    <tr>\n",
       "      <th>1732</th>\n",
       "      <td>La Húngara</td>\n",
       "      <td>Haze</td>\n",
       "    </tr>\n",
       "    <tr>\n",
       "      <th>1733</th>\n",
       "      <td>La Húngara</td>\n",
       "      <td>La Cebolla</td>\n",
       "    </tr>\n",
       "    <tr>\n",
       "      <th>1734</th>\n",
       "      <td>La Húngara</td>\n",
       "      <td>Niño de Elche</td>\n",
       "    </tr>\n",
       "    <tr>\n",
       "      <th>1735</th>\n",
       "      <td>La Húngara</td>\n",
       "      <td>C. Tangana</td>\n",
       "    </tr>\n",
       "  </tbody>\n",
       "</table>\n",
       "<p>1736 rows × 2 columns</p>\n",
       "</div>"
      ],
      "text/plain": [
       "       start_node        end_node\n",
       "0     Charles Ans    Nanpa Básico\n",
       "1     Charles Ans      Rapsusklei\n",
       "2     Charles Ans             BCN\n",
       "3     Charles Ans       Neto Peña\n",
       "4     Charles Ans  Gordo del Funk\n",
       "...           ...             ...\n",
       "1731  Def Con Dos       Sara Hebe\n",
       "1732   La Húngara            Haze\n",
       "1733   La Húngara      La Cebolla\n",
       "1734   La Húngara   Niño de Elche\n",
       "1735   La Húngara      C. Tangana\n",
       "\n",
       "[1736 rows x 2 columns]"
      ]
     },
     "execution_count": 57,
     "metadata": {},
     "output_type": "execute_result"
    }
   ],
   "source": [
    "adjacency_list_df"
   ]
  },
  {
   "cell_type": "code",
   "execution_count": 56,
   "id": "8ef39057",
   "metadata": {},
   "outputs": [
    {
     "data": {
      "text/plain": [
       "(1736, 2)"
      ]
     },
     "execution_count": 56,
     "metadata": {},
     "output_type": "execute_result"
    }
   ],
   "source": [
    "adjacency_list_df.shape"
   ]
  }
 ],
 "metadata": {
  "kernelspec": {
   "display_name": "Python 3 (ipykernel)",
   "language": "python",
   "name": "python3"
  },
  "language_info": {
   "codemirror_mode": {
    "name": "ipython",
    "version": 3
   },
   "file_extension": ".py",
   "mimetype": "text/x-python",
   "name": "python",
   "nbconvert_exporter": "python",
   "pygments_lexer": "ipython3",
   "version": "3.9.12"
  }
 },
 "nbformat": 4,
 "nbformat_minor": 5
}
